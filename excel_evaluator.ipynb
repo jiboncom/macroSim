{
 "cells": [
  {
   "cell_type": "markdown",
   "metadata": {},
   "source": [
    "# Quick test of Excel in Python"
   ]
  },
  {
   "cell_type": "code",
   "execution_count": 68,
   "metadata": {},
   "outputs": [],
   "source": [
    "%reset -f"
   ]
  },
  {
   "cell_type": "code",
   "execution_count": 35,
   "metadata": {},
   "outputs": [],
   "source": [
    "from xlcalculator import ModelCompiler\n",
    "from xlcalculator import Model\n",
    "from xlcalculator import Evaluator\n",
    "\n",
    "import pandas as pd\n",
    "\n",
    "filename = r'basic.xlsx'\n",
    "json_file_name = filename + r'.json'\n"
   ]
  },
  {
   "cell_type": "markdown",
   "metadata": {},
   "source": [
    "Display the Excel file, the first row shows the formulas of the cells below."
   ]
  },
  {
   "cell_type": "code",
   "execution_count": 36,
   "metadata": {},
   "outputs": [
    {
     "data": {
      "text/html": [
       "<div>\n",
       "<style scoped>\n",
       "    .dataframe tbody tr th:only-of-type {\n",
       "        vertical-align: middle;\n",
       "    }\n",
       "\n",
       "    .dataframe tbody tr th {\n",
       "        vertical-align: top;\n",
       "    }\n",
       "\n",
       "    .dataframe thead th {\n",
       "        text-align: right;\n",
       "    }\n",
       "</style>\n",
       "<table border=\"1\" class=\"dataframe\">\n",
       "  <thead>\n",
       "    <tr style=\"text-align: right;\">\n",
       "      <th></th>\n",
       "      <th>X</th>\n",
       "      <th>2X</th>\n",
       "      <th>X*X</th>\n",
       "      <th>C2</th>\n",
       "      <th>C2*2</th>\n",
       "    </tr>\n",
       "  </thead>\n",
       "  <tbody>\n",
       "    <tr>\n",
       "      <th>0</th>\n",
       "      <td>1</td>\n",
       "      <td>2</td>\n",
       "      <td>1</td>\n",
       "      <td>1</td>\n",
       "      <td>2</td>\n",
       "    </tr>\n",
       "  </tbody>\n",
       "</table>\n",
       "</div>"
      ],
      "text/plain": [
       "   X  2X  X*X  C2  C2*2\n",
       "0  1   2    1   1     2"
      ]
     },
     "execution_count": 36,
     "metadata": {},
     "output_type": "execute_result"
    }
   ],
   "source": [
    "pd.read_excel(filename)"
   ]
  },
  {
   "cell_type": "markdown",
   "metadata": {},
   "source": [
    "# Turn the excel file into a python usable code"
   ]
  },
  {
   "cell_type": "code",
   "execution_count": 37,
   "metadata": {},
   "outputs": [],
   "source": [
    "compiler = ModelCompiler()\n",
    "new_model = compiler.read_and_parse_archive(filename, build_code=False)\n",
    "new_model.persist_to_json_file(json_file_name)"
   ]
  },
  {
   "cell_type": "code",
   "execution_count": 38,
   "metadata": {},
   "outputs": [],
   "source": [
    "reconstituted_model = Model()\n",
    "reconstituted_model.construct_from_json_file(json_file_name, build_code=True)\n",
    "\n",
    "evaluator = Evaluator(reconstituted_model)\n"
   ]
  },
  {
   "cell_type": "code",
   "execution_count": 39,
   "metadata": {},
   "outputs": [
    {
     "name": "stdout",
     "output_type": "stream",
     "text": [
      "value 'evaluated' for Sheet1!B2 before update: 2\n",
      "value 'evaluated' for Sheet1!C2 before update: 1\n",
      "value 'evaluated' for Sheet1!E2 before update: 2\n"
     ]
    }
   ],
   "source": [
    "val = evaluator.evaluate('Sheet1!B2')\n",
    "print(\"value 'evaluated' for Sheet1!B2 before update:\", val)\n",
    "val = evaluator.evaluate('Sheet1!C2')\n",
    "print(\"value 'evaluated' for Sheet1!C2 before update:\", val)\n",
    "val = evaluator.evaluate('Sheet1!E2')\n",
    "print(\"value 'evaluated' for Sheet1!E2 before update:\", val)"
   ]
  },
  {
   "cell_type": "markdown",
   "metadata": {},
   "source": [
    "# Test: Change a cell and re evaluate the other cells\n",
    "\n",
    "Make A2=2"
   ]
  },
  {
   "cell_type": "code",
   "execution_count": 40,
   "metadata": {},
   "outputs": [
    {
     "name": "stdout",
     "output_type": "stream",
     "text": [
      "New value for Sheet1!B2: 4\n",
      "New value for Sheet1!C2: 4\n",
      "New value for Sheet1!E2: 8\n"
     ]
    }
   ],
   "source": [
    "# Now we change the value of A2\n",
    "evaluator.set_cell_value('Sheet1!A2', 2)\n",
    "\n",
    "# Evaluate the needed cells\n",
    "val = evaluator.evaluate('Sheet1!B2')\n",
    "print(\"New value for Sheet1!B2:\", val)\n",
    "val = evaluator.evaluate('Sheet1!C2')\n",
    "print(\"New value for Sheet1!C2:\", val)\n",
    "val = evaluator.evaluate('Sheet1!E2')\n",
    "print(\"New value for Sheet1!E2:\", val)"
   ]
  },
  {
   "cell_type": "markdown",
   "metadata": {},
   "source": [
    "Make A2=3"
   ]
  },
  {
   "cell_type": "code",
   "execution_count": 41,
   "metadata": {},
   "outputs": [
    {
     "name": "stdout",
     "output_type": "stream",
     "text": [
      "New value for Sheet1!B2: 6\n",
      "New value for Sheet1!C2: 9\n",
      "New value for Sheet1!E2: 18\n"
     ]
    }
   ],
   "source": [
    "# Now we change the value of A2\n",
    "evaluator.set_cell_value('Sheet1!A2', 3)\n",
    "\n",
    "# Evaluate the needed cells\n",
    "val = evaluator.evaluate('Sheet1!B2')\n",
    "print(\"New value for Sheet1!B2:\", val)\n",
    "val = evaluator.evaluate('Sheet1!C2')\n",
    "print(\"New value for Sheet1!C2:\", val)\n",
    "val = evaluator.evaluate('Sheet1!E2')\n",
    "print(\"New value for Sheet1!E2:\", val)"
   ]
  },
  {
   "cell_type": "code",
   "execution_count": 44,
   "metadata": {},
   "outputs": [
    {
     "name": "stdout",
     "output_type": "stream",
     "text": [
      "\n"
     ]
    }
   ],
   "source": [
    "print(evaluator.evaluate('Sheet1!A2:C2'))"
   ]
  },
  {
   "cell_type": "markdown",
   "metadata": {},
   "source": [
    "# Now try loading the Excel simulator"
   ]
  },
  {
   "cell_type": "code",
   "execution_count": 14,
   "metadata": {},
   "outputs": [
    {
     "ename": "ValueError",
     "evalue": "B4=1 is not a valid coordinate or range",
     "output_type": "error",
     "traceback": [
      "\u001b[1;31m---------------------------------------------------------------------------\u001b[0m",
      "\u001b[1;31mValueError\u001b[0m                                Traceback (most recent call last)",
      "\u001b[1;32mc:\\Users\\jibon\\Coding\\macroSim\\excel_evaluator.ipynb Cell 14'\u001b[0m in \u001b[0;36m<cell line: 5>\u001b[1;34m()\u001b[0m\n\u001b[0;32m      <a href='vscode-notebook-cell:/c%3A/Users/jibon/Coding/macroSim/excel_evaluator.ipynb#ch0000012?line=1'>2</a>\u001b[0m json_file_name \u001b[39m=\u001b[39m filename \u001b[39m+\u001b[39m \u001b[39mr\u001b[39m\u001b[39m'\u001b[39m\u001b[39m.json\u001b[39m\u001b[39m'\u001b[39m\n\u001b[0;32m      <a href='vscode-notebook-cell:/c%3A/Users/jibon/Coding/macroSim/excel_evaluator.ipynb#ch0000012?line=3'>4</a>\u001b[0m compiler \u001b[39m=\u001b[39m ModelCompiler()\n\u001b[1;32m----> <a href='vscode-notebook-cell:/c%3A/Users/jibon/Coding/macroSim/excel_evaluator.ipynb#ch0000012?line=4'>5</a>\u001b[0m new_model \u001b[39m=\u001b[39m compiler\u001b[39m.\u001b[39;49mread_and_parse_archive(filename, build_code\u001b[39m=\u001b[39;49m\u001b[39mFalse\u001b[39;49;00m)\n\u001b[0;32m      <a href='vscode-notebook-cell:/c%3A/Users/jibon/Coding/macroSim/excel_evaluator.ipynb#ch0000012?line=5'>6</a>\u001b[0m new_model\u001b[39m.\u001b[39mpersist_to_json_file(json_file_name)\n",
      "File \u001b[1;32m~\\AppData\\Local\\Packages\\PythonSoftwareFoundation.Python.3.9_qbz5n2kfra8p0\\LocalCache\\local-packages\\Python39\\site-packages\\xlcalculator\\model.py:184\u001b[0m, in \u001b[0;36mModelCompiler.read_and_parse_archive\u001b[1;34m(self, file_name, ignore_sheets, ignore_hidden, build_code)\u001b[0m\n\u001b[0;32m    179\u001b[0m \u001b[39mdef\u001b[39;00m \u001b[39mread_and_parse_archive\u001b[39m(\n\u001b[0;32m    180\u001b[0m         \u001b[39mself\u001b[39m, file_name\u001b[39m=\u001b[39m\u001b[39mNone\u001b[39;00m, ignore_sheets\u001b[39m=\u001b[39m[], ignore_hidden\u001b[39m=\u001b[39m\u001b[39mFalse\u001b[39;00m,\n\u001b[0;32m    181\u001b[0m         build_code\u001b[39m=\u001b[39m\u001b[39mTrue\u001b[39;00m\n\u001b[0;32m    182\u001b[0m ):\n\u001b[0;32m    183\u001b[0m     archive \u001b[39m=\u001b[39m \u001b[39mself\u001b[39m\u001b[39m.\u001b[39mread_excel_file(file_name)\n\u001b[1;32m--> 184\u001b[0m     \u001b[39mself\u001b[39;49m\u001b[39m.\u001b[39;49mparse_archive(\n\u001b[0;32m    185\u001b[0m         archive, ignore_sheets\u001b[39m=\u001b[39;49mignore_sheets, ignore_hidden\u001b[39m=\u001b[39;49mignore_hidden)\n\u001b[0;32m    187\u001b[0m     \u001b[39mif\u001b[39;00m build_code:\n\u001b[0;32m    188\u001b[0m         \u001b[39mself\u001b[39m\u001b[39m.\u001b[39mmodel\u001b[39m.\u001b[39mbuild_code()\n",
      "File \u001b[1;32m~\\AppData\\Local\\Packages\\PythonSoftwareFoundation.Python.3.9_qbz5n2kfra8p0\\LocalCache\\local-packages\\Python39\\site-packages\\xlcalculator\\model.py:175\u001b[0m, in \u001b[0;36mModelCompiler.parse_archive\u001b[1;34m(self, archive, ignore_sheets, ignore_hidden)\u001b[0m\n\u001b[0;32m    171\u001b[0m \u001b[39mself\u001b[39m\u001b[39m.\u001b[39mmodel\u001b[39m.\u001b[39mcells, \u001b[39mself\u001b[39m\u001b[39m.\u001b[39mmodel\u001b[39m.\u001b[39mformulae, \u001b[39mself\u001b[39m\u001b[39m.\u001b[39mmodel\u001b[39m.\u001b[39mranges \u001b[39m=\u001b[39m \\\n\u001b[0;32m    172\u001b[0m     archive\u001b[39m.\u001b[39mread_cells(ignore_sheets, ignore_hidden)\n\u001b[0;32m    173\u001b[0m \u001b[39mself\u001b[39m\u001b[39m.\u001b[39mdefined_names \u001b[39m=\u001b[39m archive\u001b[39m.\u001b[39mread_defined_names(\n\u001b[0;32m    174\u001b[0m     ignore_sheets, ignore_hidden)\n\u001b[1;32m--> 175\u001b[0m \u001b[39mself\u001b[39;49m\u001b[39m.\u001b[39;49mbuild_defined_names()\n\u001b[0;32m    176\u001b[0m \u001b[39mself\u001b[39m\u001b[39m.\u001b[39mlink_cells_to_defined_names()\n\u001b[0;32m    177\u001b[0m \u001b[39mself\u001b[39m\u001b[39m.\u001b[39mbuild_ranges()\n",
      "File \u001b[1;32m~\\AppData\\Local\\Packages\\PythonSoftwareFoundation.Python.3.9_qbz5n2kfra8p0\\LocalCache\\local-packages\\Python39\\site-packages\\xlcalculator\\model.py:245\u001b[0m, in \u001b[0;36mModelCompiler.build_defined_names\u001b[1;34m(self)\u001b[0m\n\u001b[0;32m    241\u001b[0m             \u001b[39mself\u001b[39m\u001b[39m.\u001b[39mmodel\u001b[39m.\u001b[39mdefined_names[name] \u001b[39m=\u001b[39m \\\n\u001b[0;32m    242\u001b[0m                 \u001b[39mself\u001b[39m\u001b[39m.\u001b[39mmodel\u001b[39m.\u001b[39mcells[cell_address]\n\u001b[0;32m    244\u001b[0m \u001b[39melse\u001b[39;00m:\n\u001b[1;32m--> 245\u001b[0m     \u001b[39mself\u001b[39m\u001b[39m.\u001b[39mmodel\u001b[39m.\u001b[39mdefined_names[name] \u001b[39m=\u001b[39m xltypes\u001b[39m.\u001b[39;49mXLRange(\n\u001b[0;32m    246\u001b[0m         cell_address, name\u001b[39m=\u001b[39;49mname)\n\u001b[0;32m    247\u001b[0m     \u001b[39mself\u001b[39m\u001b[39m.\u001b[39mmodel\u001b[39m.\u001b[39mranges[cell_address] \u001b[39m=\u001b[39m \\\n\u001b[0;32m    248\u001b[0m         \u001b[39mself\u001b[39m\u001b[39m.\u001b[39mmodel\u001b[39m.\u001b[39mdefined_names[name]\n\u001b[0;32m    250\u001b[0m \u001b[39mif\u001b[39;00m (\n\u001b[0;32m    251\u001b[0m         cell_address \u001b[39min\u001b[39;00m \u001b[39mself\u001b[39m\u001b[39m.\u001b[39mmodel\u001b[39m.\u001b[39mformulae\n\u001b[0;32m    252\u001b[0m         \u001b[39mand\u001b[39;00m name \u001b[39mnot\u001b[39;00m \u001b[39min\u001b[39;00m \u001b[39mself\u001b[39m\u001b[39m.\u001b[39mmodel\u001b[39m.\u001b[39mformulae\n\u001b[0;32m    253\u001b[0m ):\n",
      "File \u001b[1;32m<string>:6\u001b[0m, in \u001b[0;36m__init__\u001b[1;34m(self, address_str, name, value)\u001b[0m\n",
      "File \u001b[1;32m~\\AppData\\Local\\Packages\\PythonSoftwareFoundation.Python.3.9_qbz5n2kfra8p0\\LocalCache\\local-packages\\Python39\\site-packages\\xlcalculator\\xltypes.py:90\u001b[0m, in \u001b[0;36mXLRange.__post_init__\u001b[1;34m(self)\u001b[0m\n\u001b[0;32m     88\u001b[0m \u001b[39mif\u001b[39;00m \u001b[39mself\u001b[39m\u001b[39m.\u001b[39mname \u001b[39mis\u001b[39;00m \u001b[39mNone\u001b[39;00m:\n\u001b[0;32m     89\u001b[0m     \u001b[39mself\u001b[39m\u001b[39m.\u001b[39mname \u001b[39m=\u001b[39m \u001b[39mself\u001b[39m\u001b[39m.\u001b[39maddress_str\n\u001b[1;32m---> 90\u001b[0m \u001b[39mself\u001b[39m\u001b[39m.\u001b[39msheet, \u001b[39mself\u001b[39m\u001b[39m.\u001b[39mcells \u001b[39m=\u001b[39m utils\u001b[39m.\u001b[39;49mresolve_ranges(\u001b[39mself\u001b[39;49m\u001b[39m.\u001b[39;49maddress_str)\n",
      "File \u001b[1;32m~\\AppData\\Local\\Packages\\PythonSoftwareFoundation.Python.3.9_qbz5n2kfra8p0\\LocalCache\\local-packages\\Python39\\site-packages\\xlcalculator\\utils.py:44\u001b[0m, in \u001b[0;36mresolve_ranges\u001b[1;34m(ranges, default_sheet)\u001b[0m\n\u001b[0;32m     39\u001b[0m         \u001b[39mraise\u001b[39;00m \u001b[39mValueError\u001b[39;00m(\n\u001b[0;32m     40\u001b[0m             \u001b[39mf\u001b[39m\u001b[39m'\u001b[39m\u001b[39mGot multiple different sheets in ranges: \u001b[39m\u001b[39m'\u001b[39m\n\u001b[0;32m     41\u001b[0m             \u001b[39mf\u001b[39m\u001b[39m'\u001b[39m\u001b[39m{\u001b[39;00msheet\u001b[39m}\u001b[39;00m\u001b[39m, \u001b[39m\u001b[39m{\u001b[39;00mrng_sheet\u001b[39m}\u001b[39;00m\u001b[39m'\u001b[39m\n\u001b[0;32m     42\u001b[0m         )\n\u001b[0;32m     43\u001b[0m     sheet \u001b[39m=\u001b[39m rng_sheet\n\u001b[1;32m---> 44\u001b[0m min_col, min_row, max_col, max_row \u001b[39m=\u001b[39m range_boundaries(rng)\n\u001b[0;32m     46\u001b[0m \u001b[39m# Unbound ranges (e.g., A:A) might not have these set!\u001b[39;00m\n\u001b[0;32m     47\u001b[0m min_col \u001b[39m=\u001b[39m min_col \u001b[39mor\u001b[39;00m \u001b[39m1\u001b[39m\n",
      "File \u001b[1;32m~\\AppData\\Local\\Packages\\PythonSoftwareFoundation.Python.3.9_qbz5n2kfra8p0\\LocalCache\\local-packages\\Python39\\site-packages\\openpyxl\\utils\\cell.py:135\u001b[0m, in \u001b[0;36mrange_boundaries\u001b[1;34m(range_string)\u001b[0m\n\u001b[0;32m    133\u001b[0m m \u001b[39m=\u001b[39m ABSOLUTE_RE\u001b[39m.\u001b[39mmatch(range_string)\n\u001b[0;32m    134\u001b[0m \u001b[39mif\u001b[39;00m \u001b[39mnot\u001b[39;00m m:\n\u001b[1;32m--> 135\u001b[0m     \u001b[39mraise\u001b[39;00m \u001b[39mValueError\u001b[39;00m(msg)\n\u001b[0;32m    137\u001b[0m min_col, min_row, sep, max_col, max_row \u001b[39m=\u001b[39m m\u001b[39m.\u001b[39mgroups()\n\u001b[0;32m    139\u001b[0m \u001b[39mif\u001b[39;00m sep:\n",
      "\u001b[1;31mValueError\u001b[0m: B4=1 is not a valid coordinate or range"
     ]
    }
   ],
   "source": [
    "filename = r'carlin_soskice_macroeconomic_simulator.xlsm'\n",
    "json_file_name = filename + r'.json'\n",
    "\n",
    "compiler = ModelCompiler()\n",
    "new_model = compiler.read_and_parse_archive(filename, build_code=False)\n",
    "new_model.persist_to_json_file(json_file_name)"
   ]
  },
  {
   "cell_type": "markdown",
   "metadata": {},
   "source": [
    "Something went wrong, but it might be fixable. **I don't know**. \n"
   ]
  },
  {
   "cell_type": "code",
   "execution_count": null,
   "metadata": {},
   "outputs": [],
   "source": []
  }
 ],
 "metadata": {
  "kernelspec": {
   "display_name": "Python 3.9.13 64-bit (windows store)",
   "language": "python",
   "name": "python3"
  },
  "language_info": {
   "codemirror_mode": {
    "name": "ipython",
    "version": 3
   },
   "file_extension": ".py",
   "mimetype": "text/x-python",
   "name": "python",
   "nbconvert_exporter": "python",
   "pygments_lexer": "ipython3",
   "version": "3.9.13"
  },
  "orig_nbformat": 4,
  "vscode": {
   "interpreter": {
    "hash": "c46d15a1b4c28c31e9dc683ee4487d3f462082816e759ce09bdb017dc1cea866"
   }
  }
 },
 "nbformat": 4,
 "nbformat_minor": 2
}
