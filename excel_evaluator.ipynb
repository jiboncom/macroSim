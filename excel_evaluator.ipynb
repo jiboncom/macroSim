{
 "cells": [
  {
   "cell_type": "code",
   "execution_count": 68,
   "metadata": {},
   "outputs": [],
   "source": [
    "%reset -f"
   ]
  },
  {
   "cell_type": "code",
   "execution_count": 69,
   "metadata": {},
   "outputs": [],
   "source": [
    "from xlcalculator import ModelCompiler\n",
    "from xlcalculator import Model\n",
    "from xlcalculator import Evaluator\n",
    "\n",
    "import pandas as pd\n",
    "\n",
    "filename = r'basic.xlsx'\n",
    "json_file_name = filename + r'.json'\n"
   ]
  },
  {
   "cell_type": "markdown",
   "metadata": {},
   "source": [
    "Display the Excel file, the first row shows the formulas of the cells below."
   ]
  },
  {
   "cell_type": "code",
   "execution_count": 70,
   "metadata": {},
   "outputs": [
    {
     "data": {
      "text/html": [
       "<div>\n",
       "<style scoped>\n",
       "    .dataframe tbody tr th:only-of-type {\n",
       "        vertical-align: middle;\n",
       "    }\n",
       "\n",
       "    .dataframe tbody tr th {\n",
       "        vertical-align: top;\n",
       "    }\n",
       "\n",
       "    .dataframe thead th {\n",
       "        text-align: right;\n",
       "    }\n",
       "</style>\n",
       "<table border=\"1\" class=\"dataframe\">\n",
       "  <thead>\n",
       "    <tr style=\"text-align: right;\">\n",
       "      <th></th>\n",
       "      <th>X</th>\n",
       "      <th>2X</th>\n",
       "      <th>X*X</th>\n",
       "    </tr>\n",
       "  </thead>\n",
       "  <tbody>\n",
       "    <tr>\n",
       "      <th>0</th>\n",
       "      <td>1</td>\n",
       "      <td>2</td>\n",
       "      <td>1</td>\n",
       "    </tr>\n",
       "  </tbody>\n",
       "</table>\n",
       "</div>"
      ],
      "text/plain": [
       "   X  2X  X*X\n",
       "0  1   2    1"
      ]
     },
     "execution_count": 70,
     "metadata": {},
     "output_type": "execute_result"
    }
   ],
   "source": [
    "pd.read_excel(filename)"
   ]
  },
  {
   "cell_type": "markdown",
   "metadata": {},
   "source": [
    "# Turn the excel file into a python usable code"
   ]
  },
  {
   "cell_type": "code",
   "execution_count": 71,
   "metadata": {},
   "outputs": [],
   "source": [
    "compiler = ModelCompiler()\n",
    "new_model = compiler.read_and_parse_archive(filename, build_code=False)\n",
    "new_model.persist_to_json_file(json_file_name)"
   ]
  },
  {
   "cell_type": "code",
   "execution_count": 72,
   "metadata": {},
   "outputs": [],
   "source": [
    "reconstituted_model = Model()\n",
    "reconstituted_model.construct_from_json_file(json_file_name, build_code=True)\n",
    "\n",
    "evaluator = Evaluator(reconstituted_model)\n"
   ]
  },
  {
   "cell_type": "code",
   "execution_count": 73,
   "metadata": {},
   "outputs": [
    {
     "name": "stdout",
     "output_type": "stream",
     "text": [
      "value 'evaluated' for Sheet1!B2 before update: 2\n",
      "value 'evaluated' for Sheet1!C2 before update: 1\n"
     ]
    }
   ],
   "source": [
    "val = evaluator.evaluate('Sheet1!B2')\n",
    "print(\"value 'evaluated' for Sheet1!B2 before update:\", val)\n",
    "val = evaluator.evaluate('Sheet1!C2')\n",
    "print(\"value 'evaluated' for Sheet1!C2 before update:\", val)"
   ]
  },
  {
   "cell_type": "markdown",
   "metadata": {},
   "source": [
    "# Test: Change a cell and re evaluate the other cells\n",
    "\n",
    "Make A2=2"
   ]
  },
  {
   "cell_type": "code",
   "execution_count": 75,
   "metadata": {},
   "outputs": [
    {
     "name": "stdout",
     "output_type": "stream",
     "text": [
      "New value for Sheet1!B2 is 4\n",
      "New value for Sheet1!C2 is 4\n"
     ]
    }
   ],
   "source": [
    "# Now we change the value of A2\n",
    "evaluator.set_cell_value('Sheet1!A2', 2)\n",
    "\n",
    "# Evaluate the needed cells\n",
    "val17 = evaluator.evaluate('Sheet1!B2')\n",
    "print(\"New value for Sheet1!B2 is\", val17)\n",
    "val17 = evaluator.evaluate('Sheet1!C2')\n",
    "print(\"New value for Sheet1!C2 is\", val17)"
   ]
  },
  {
   "cell_type": "markdown",
   "metadata": {},
   "source": [
    "Make A2=3"
   ]
  },
  {
   "cell_type": "code",
   "execution_count": 76,
   "metadata": {},
   "outputs": [
    {
     "name": "stdout",
     "output_type": "stream",
     "text": [
      "New value for Sheet1!B2 is 6\n",
      "New value for Sheet1!C2 is 9\n"
     ]
    }
   ],
   "source": [
    "# Now we change the value of A2\n",
    "evaluator.set_cell_value('Sheet1!A2', 3)\n",
    "\n",
    "# Evaluate the needed cells\n",
    "val17 = evaluator.evaluate('Sheet1!B2')\n",
    "print(\"New value for Sheet1!B2 is\", val17)\n",
    "val17 = evaluator.evaluate('Sheet1!C2')\n",
    "print(\"New value for Sheet1!C2 is\", val17)"
   ]
  },
  {
   "cell_type": "code",
   "execution_count": null,
   "metadata": {},
   "outputs": [],
   "source": []
  }
 ],
 "metadata": {
  "kernelspec": {
   "display_name": "Python 3.9.13 64-bit (windows store)",
   "language": "python",
   "name": "python3"
  },
  "language_info": {
   "codemirror_mode": {
    "name": "ipython",
    "version": 3
   },
   "file_extension": ".py",
   "mimetype": "text/x-python",
   "name": "python",
   "nbconvert_exporter": "python",
   "pygments_lexer": "ipython3",
   "version": "3.9.13"
  },
  "orig_nbformat": 4,
  "vscode": {
   "interpreter": {
    "hash": "c46d15a1b4c28c31e9dc683ee4487d3f462082816e759ce09bdb017dc1cea866"
   }
  }
 },
 "nbformat": 4,
 "nbformat_minor": 2
}
