{
 "cells": [
  {
   "cell_type": "markdown",
   "metadata": {},
   "source": [
    "# Quick test of Excel in Python"
   ]
  },
  {
   "cell_type": "code",
   "execution_count": 72,
   "metadata": {},
   "outputs": [],
   "source": [
    "%reset -f"
   ]
  },
  {
   "cell_type": "markdown",
   "metadata": {},
   "source": [
    "## Simulator new attempt"
   ]
  },
  {
   "cell_type": "code",
   "execution_count": 73,
   "metadata": {},
   "outputs": [],
   "source": [
    "%matplotlib inline\n",
    "# import basics\n",
    "from pycel import ExcelCompiler\n",
    "from IPython.display import FileLink\n",
    "import matplotlib.pyplot as plt\n",
    "\n",
    "filename = r'carlin_soskice_macroeconomic_simulator (unprotected) (2).xlsx'\n",
    "\n",
    "# load & compile the file to a graph\n",
    "excel = ExcelCompiler(filename=filename)"
   ]
  },
  {
   "cell_type": "code",
   "execution_count": 74,
   "metadata": {},
   "outputs": [
    {
     "name": "stdout",
     "output_type": "stream",
     "text": [
      "main page!F8 is Size\n"
     ]
    }
   ],
   "source": [
    "# test evaluation\n",
    "address = 'main page!F8'\n",
    "print(address + \" is {}\".format(excel.evaluate(address)))"
   ]
  },
  {
   "cell_type": "code",
   "execution_count": 75,
   "metadata": {},
   "outputs": [
    {
     "name": "stdout",
     "output_type": "stream",
     "text": [
      "main page!G8 is None\n",
      "Setting main page!G8 to 10\n",
      "main page!G8 is now 10\n"
     ]
    }
   ],
   "source": [
    "address = 'main page!G8'\n",
    "print(address + \" is {}\".format(excel.evaluate(address)))\n",
    "\n",
    "print(f\"Setting {address} to 10\")\n",
    "excel.set_value(address, 10)\n",
    "\n",
    "print(address + \" is now %s\" % excel.evaluate(address))"
   ]
  },
  {
   "cell_type": "code",
   "execution_count": 76,
   "metadata": {},
   "outputs": [
    {
     "name": "stdout",
     "output_type": "stream",
     "text": [
      ":::main page!K25::: is 1\n",
      ":::main page!G8::: is 10\n",
      ":::main page!G11::: is None\n",
      ":::normal case!AL3::: is 100\n",
      ":::main page!X19::: is 0\n",
      ":::main page!X20::: is 0\n"
     ]
    }
   ],
   "source": [
    "# Evaluating multiple cells (Some include formulas)\n",
    "addresses = [\n",
    "                'main page!K25', \n",
    "                'main page!G8',\n",
    "                'main page!G11',\n",
    "                \"\"\"normal case!AL3\"\"\",\n",
    "                'main page!X19', # Formula \n",
    "                'main page!X20', # Formula\n",
    "            ]\n",
    "\n",
    "for address in addresses:\n",
    "    print(\":::\" + address + \"::: is {}\".format(excel.evaluate(address)))\n",
    "\n"
   ]
  },
  {
   "cell_type": "code",
   "execution_count": 77,
   "metadata": {},
   "outputs": [
    {
     "name": "stdout",
     "output_type": "stream",
     "text": [
      ":::main page!K25::: is 10\n",
      ":::main page!G8::: is 10\n",
      ":::main page!G11::: is None\n",
      ":::normal case!AL3::: is 10\n",
      ":::main page!X19::: is -10.0\n",
      ":::main page!X20::: is 0.0\n"
     ]
    }
   ],
   "source": [
    "# Change values precedent of X19\n",
    "### =-K25*G8*'normal case'!AL3/100\n",
    "excel.set_value('main page!G8', 10)\n",
    "excel.set_value('main page!K25', 10)\n",
    "excel.set_value('normal case!AL3', 10)\n",
    "\n",
    "for address in addresses:\n",
    "    print(\":::\" + address + \"::: is {}\".format(excel.evaluate(address)))\n"
   ]
  },
  {
   "cell_type": "code",
   "execution_count": 78,
   "metadata": {},
   "outputs": [
    {
     "name": "stdout",
     "output_type": "stream",
     "text": [
      ":::main page!K25::: is 10\n",
      ":::main page!G8::: is 10\n",
      ":::main page!G11::: is 10\n",
      ":::normal case!AL3::: is 10\n",
      ":::main page!X19::: is -10.0\n",
      ":::main page!X20::: is -10.0\n"
     ]
    }
   ],
   "source": [
    "# Change values precedent of X20\n",
    "### =-100*G11/(K25*'normal case'!AL3)\n",
    "excel.set_value('main page!G11', 10)\n",
    "excel.set_value('main page!K25', 10)\n",
    "excel.set_value('normal case!AL3', 10)\n",
    "\n",
    "for address in addresses:\n",
    "    print(\":::\" + address + \"::: is {}\".format(excel.evaluate(address)))\n",
    "\n",
    "\n"
   ]
  },
  {
   "cell_type": "code",
   "execution_count": 79,
   "metadata": {},
   "outputs": [
    {
     "name": "stdout",
     "output_type": "stream",
     "text": [
      ":::main page!K25::: is 10\n",
      ":::main page!G8::: is 10\n",
      ":::main page!G11::: is 10\n",
      ":::normal case!AL3::: is 40\n",
      ":::main page!X19::: is -40.0\n",
      ":::main page!X20::: is -2.5\n"
     ]
    }
   ],
   "source": [
    "# Another test \n",
    "excel.set_value('normal case!AL3', 40)\n",
    "\n",
    "for address in addresses:\n",
    "    print(\":::\" + address + \"::: is {}\".format(excel.evaluate(address)))"
   ]
  },
  {
   "cell_type": "code",
   "execution_count": null,
   "metadata": {},
   "outputs": [],
   "source": []
  }
 ],
 "metadata": {
  "kernelspec": {
   "display_name": "Python 3.9.13 64-bit (windows store)",
   "language": "python",
   "name": "python3"
  },
  "language_info": {
   "codemirror_mode": {
    "name": "ipython",
    "version": 3
   },
   "file_extension": ".py",
   "mimetype": "text/x-python",
   "name": "python",
   "nbconvert_exporter": "python",
   "pygments_lexer": "ipython3",
   "version": "3.9.13"
  },
  "orig_nbformat": 4,
  "vscode": {
   "interpreter": {
    "hash": "c46d15a1b4c28c31e9dc683ee4487d3f462082816e759ce09bdb017dc1cea866"
   }
  }
 },
 "nbformat": 4,
 "nbformat_minor": 2
}
