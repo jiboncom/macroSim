{
 "cells": [
  {
   "cell_type": "markdown",
   "metadata": {},
   "source": [
    "# Quick test of Excel in Python"
   ]
  },
  {
   "cell_type": "markdown",
   "metadata": {},
   "source": [
    "## Simulator new attempt"
   ]
  },
  {
   "cell_type": "code",
   "execution_count": 1,
   "metadata": {},
   "outputs": [],
   "source": [
    "from pycel import ExcelCompiler\n",
    "import pycel\n",
    "import logging\n",
    "\n",
    "filename = r'carlin_soskice_macroeconomic_simulator (unprotected) (2).xlsx'\n",
    "\n",
    "\n",
    "# load & compile the file to a graph\n",
    "excel = ExcelCompiler(filename=filename)\n",
    "\n",
    "eval_ctx = pycel.excelformula.ExcelFormula.build_eval_context(\n",
    "                excel._evaluate, excel._evaluate_range,\n",
    "                excel.log, plugins=excel._plugin_modules)\n",
    "\n",
    "def eval_formula(formula): \n",
    "    return eval_ctx(pycel.excelformula.ExcelFormula(formula), cse_array_address=None) \n"
   ]
  },
  {
   "cell_type": "code",
   "execution_count": 2,
   "metadata": {},
   "outputs": [
    {
     "data": {
      "text/plain": [
       "{}"
      ]
     },
     "execution_count": 2,
     "metadata": {},
     "output_type": "execute_result"
    }
   ],
   "source": [
    "excel.cell_map"
   ]
  },
  {
   "cell_type": "code",
   "execution_count": 3,
   "metadata": {},
   "outputs": [
    {
     "data": {
      "text/plain": [
       "108"
      ]
     },
     "metadata": {},
     "output_type": "display_data"
    }
   ],
   "source": [
    "display(excel.evaluate('normal case!I7'))"
   ]
  },
  {
   "cell_type": "code",
   "execution_count": 4,
   "metadata": {},
   "outputs": [
    {
     "data": {
      "text/plain": [
       "{'normal case!I7': normal case!I7 -> =$AP$3+$AS$7+D6*AD7,\n",
       " 'normal case!AP3': normal case!AP3 -> =IF(controls!B44=0,'main page'!K27*'normal case'!AP7+'normal case'!AS3,AS4+'main page'!K27*AS6-'main page'!$K$31*'normal case'!AS9),\n",
       " 'normal case!AS7': normal case!AS7 -> =('main page'!K8/100)*'normal case'!AS4,\n",
       " 'normal case!D6': normal case!D6 -> =IF(E6>0,E6,0.1),\n",
       " 'normal case!AD7': normal case!AD7 -> 0,\n",
       " 'normal case!E6': normal case!E6 -> =AN5+IF(controls!$B$33=1,G6,F6),\n",
       " 'normal case!AN5': normal case!AN5 -> =IF(controls!$B$46=0,0,IF(controls!$B$33=2,B6-B5*AC6-('normal case'!H6-D5*AD6-'main page'!$K$27*'normal case'!T5+'main page'!$K$31*'normal case'!AI5)-(('main page'!$K$25*'main page'!$U$13*'main page'!$K$29)/(1+('main page'!$K$25^2)*'main page'!$U$13))*('normal case'!L5-'main page'!$U$8),B6-B5*AC6-('normal case'!I6-D5*AD6-'main page'!$K$27*'normal case'!T5+'main page'!$K$31*'normal case'!AI5)-(('main page'!$K$25*'main page'!$U$13*'main page'!$K$29)/(1+('main page'!$K$25^2)*'main page'!$U$13))*('normal case'!L5-'main page'!$U$8))),\n",
       " 'controls!B33': controls!B33 -> 2,\n",
       " 'normal case!G6': normal case!G6 -> =IF(controls!$B$44=0,I6-'main page'!$K$27*T5,I6-'main page'!$K$27*T5+'main page'!$K$31*'normal case'!AI5),\n",
       " 'normal case!F6': normal case!F6 -> =IF(controls!$B$44=0,H6-'main page'!$K$27*T5,H6-'main page'!$K$27*T5+'main page'!$K$31*AI5),\n",
       " 'controls!B44': controls!B44 -> 0,\n",
       " 'normal case!H6': normal case!H6 -> =H5+D5*AD6,\n",
       " 'main page!K27': main page!K27 -> 2,\n",
       " 'normal case!T5': normal case!T5 -> =IF(controls!$B$10=1,T4,IF(SUM(controls!$B$44:$B$46)=2,U5-'main page'!$K$29*'normal case'!L5-(1-'main page'!$K$29)*'main page'!$K$32,U5-'main page'!$K$29*'normal case'!L5-(1-'main page'!$K$29)*'main page'!$U$8)),\n",
       " 'main page!K31': main page!K31 -> 1,\n",
       " 'normal case!AI5': normal case!AI5 -> =IF(controls!$B$45=1,LOG(AM5,1.01)+LOG(AL5,1.01)-LOG(AK5,1.01),-((T5-'main page'!$K$24)/(1-'normal case'!$AV$3))+'normal case'!AH5),\n",
       " 'controls!B45': controls!B45 -> 0,\n",
       " 'normal case!AM5': normal case!AM5 -> =IF(ABS(IF(controls!$B$45=1,$AS$12,AK5*AJ5/AL5)-AM4)<0.00001,AM4,IF(controls!$B$45=1,$AS$12,AK5*AJ5/AL5)),\n",
       " 'normal case!AL5': normal case!AL5 -> =AL4*(1+'main page'!$K$32/100),\n",
       " 'normal case!AK5': normal case!AK5 -> =AK4*(1+L5/100),\n",
       " 'main page!K24': main page!K24 -> 4,\n",
       " 'normal case!AV3': normal case!AV3 -> ='main page'!K29/(1+(('main page'!K25)^2)*'main page'!U13),\n",
       " 'normal case!AH5': normal case!AH5 -> =IF(controls!$B$33=1,(B6-B5*AC6-I6+D5*AD6+'main page'!$K$27*'main page'!$K$24)/'main page'!$K$31,(B6-B5*AC6+D5*AD6-H6+'main page'!$K$27*'main page'!$K$24)/'main page'!$K$31),\n",
       " 'normal case!B6': normal case!B6 -> =IF(controls!$B$33=1,($AS$3/(1+('main page'!$K$35/100)))*(1+AC6),B5*(1+AC6)),\n",
       " 'normal case!B5': normal case!B5 -> =IF(controls!$B$33=1,($AS$3/(1+('main page'!$K$35/100))^2)*(1+AC5),B4*(1+AC5)),\n",
       " 'normal case!AC6': normal case!AC6 -> 0,\n",
       " 'normal case!I6': normal case!I6 -> =(($AP$3+'main page'!$K$27*$AS$5*(AD6+'main page'!$K$35/100))/(1+AD6+('main page'!$K$35/100))),\n",
       " 'normal case!D5': normal case!D5 -> =IF(E5>0,E5,0.1),\n",
       " 'normal case!AD6': normal case!AD6 -> 0,\n",
       " 'normal case!E5': normal case!E5 -> =AN4+IF(controls!$B$33=1,G5,F5),\n",
       " 'normal case!AN4': normal case!AN4 -> =IF(controls!$B$46=0,0,IF(controls!$B$33=2,B5-B4*AC5-('normal case'!H5-D4*AD5-'main page'!$K$27*'normal case'!T4+'main page'!$K$31*'normal case'!AI4)-(('main page'!$K$25*'main page'!$U$13*'main page'!$K$29)/(1+('main page'!$K$25^2)*'main page'!$U$13))*('normal case'!L4-'main page'!$U$8),B5-B4*AC5-('normal case'!I5-D4*AD5-'main page'!$K$27*'normal case'!T4+'main page'!$K$31*'normal case'!AI4)-(('main page'!$K$25*'main page'!$U$13*'main page'!$K$29)/(1+('main page'!$K$25^2)*'main page'!$U$13))*('normal case'!L4-'main page'!$U$8))),\n",
       " 'normal case!G5': normal case!G5 -> =IF(controls!$B$44=0,I5-'main page'!$K$27*T4,I5-'main page'!$K$27*T4+'main page'!$K$31*'normal case'!AI4),\n",
       " 'normal case!F5': normal case!F5 -> =IF(controls!$B$44=0,H5-'main page'!$K$27*T4,H5-'main page'!$K$27*T4+'main page'!$K$31*AI4),\n",
       " 'normal case!H5': normal case!H5 -> =H4+D4*AD5,\n",
       " 'normal case!T4': normal case!T4 -> =IF(controls!$B$10=1,T3,IF(SUM(controls!$B$44:$B$46)=2,U4-'main page'!$K$29*'normal case'!L4-(1-'main page'!$K$29)*'main page'!$K$32,U4-'main page'!$K$29*'normal case'!L4-(1-'main page'!$K$29)*'main page'!$U$8)),\n",
       " 'normal case!AI4': normal case!AI4 -> =IF(controls!$B$45=1,LOG(AM4,1.01)+LOG(AL4,1.01)-LOG(AK4,1.01),-((T4-'main page'!$K$24)/(1-'normal case'!$AV$3))+'normal case'!AH4),\n",
       " 'normal case!AM4': normal case!AM4 -> =IF(ABS(IF(controls!$B$45=1,$AS$12,AK4*AJ4/AL4)-AM3)<0.00001,AM3,IF(controls!$B$45=1,$AS$12,AK4*AJ4/AL4)),\n",
       " 'normal case!AL4': normal case!AL4 -> =AL3*(1+'main page'!$K$32/100),\n",
       " 'normal case!AK4': normal case!AK4 -> =AK3*(1+L4/100),\n",
       " 'normal case!AH4': normal case!AH4 -> =IF(controls!$B$33=1,(B5-B4*AC5-I5+D4*AD5+'main page'!$K$27*'main page'!$K$24)/'main page'!$K$31,(B5-B4*AC5+D4*AD5-H5+'main page'!$K$27*'main page'!$K$24)/'main page'!$K$31),\n",
       " 'normal case!B4': normal case!B4 -> =IF(controls!$B$33=1,($AS$3/(1+('main page'!$K$35/100))^3)*(1+AC4),B3*(1+AC4)),\n",
       " 'normal case!AC5': normal case!AC5 -> =IF(controls!$B$4=1,IF(controls!$H4=1,controls!$B$34*AC4+RAND()*('main page'!$K$16/100)-RAND()*('main page'!$K$16/100),0),0),\n",
       " 'normal case!I5': normal case!I5 -> =(I6+'main page'!$K$27*$AS$5*(AD5+'main page'!$K$35/100))/(1+AD5+('main page'!$K$35/100)),\n",
       " 'normal case!D4': normal case!D4 -> =IF(E4>0,E4,0.1),\n",
       " 'normal case!AD5': normal case!AD5 -> =IF(controls!$B$4=1,IF(controls!$I4=1,controls!$B$34*AD4+RAND()*('main page'!$K$16/100)-RAND()*('main page'!$K$16/100),0),0),\n",
       " 'controls!B4': controls!B4 -> 2,\n",
       " 'controls!I4': controls!I4 -> =IF(G4<0.33,2,1),\n",
       " 'controls!B34': controls!B34 -> 0.7,\n",
       " 'normal case!AD4': normal case!AD4 -> 0,\n",
       " 'main page!K16': main page!K16 -> None,\n",
       " 'controls!G4': controls!G4 -> =RAND(),\n",
       " 'normal case!E4': normal case!E4 -> =AN3+IF(controls!$B$33=1,G4,F4),\n",
       " 'normal case!AN3': normal case!AN3 -> =IF(controls!$B$46=0,0,IF(controls!$B$33=2,B4-B3*AC4-('normal case'!H4-D3*AD4-'main page'!$K$27*'normal case'!T3+'main page'!$K$31*'normal case'!AI3)-(('main page'!$K$25*'main page'!$U$13*'main page'!$K$29)/(1+('main page'!$K$25^2)*'main page'!$U$13))*('normal case'!L3-'main page'!$U$8),B4-B3*AC4-('normal case'!I4-D3*AD4-'main page'!$K$27*'normal case'!T3+'main page'!$K$31*'normal case'!AI3)-(('main page'!$K$25*'main page'!$U$13*'main page'!$K$29)/(1+('main page'!$K$25^2)*'main page'!$U$13))*('normal case'!L3-'main page'!$U$8))),\n",
       " 'normal case!G4': normal case!G4 -> =IF(controls!$B$44=0,I4-'main page'!$K$27*T3,I4-'main page'!$K$27*T3+'main page'!$K$31*'normal case'!AI3),\n",
       " 'normal case!F4': normal case!F4 -> =IF(controls!$B$44=0,H4-'main page'!$K$27*T3,H4-'main page'!$K$27*T3+'main page'!$K$31*AI3),\n",
       " 'normal case!H4': normal case!H4 -> =H3+D3*AD4,\n",
       " 'normal case!T3': normal case!T3 -> =IF(controls!$B$44=0,IF(controls!B33=1,('normal case'!I4-'normal case'!B4)/'main page'!$K$27,('normal case'!$AP$3-'normal case'!B4)/'main page'!$K$27),'normal case'!AS6),\n",
       " 'normal case!AI3': normal case!AI3 -> =IF(controls!$B$45=1,LOG(AM3,1.01)+LOG(AL3,1.01)-LOG(AK3,1.01),-((T3-'main page'!$K$24)/(1-'normal case'!$AV$3))+'normal case'!AH3),\n",
       " 'normal case!AM3': normal case!AM3 -> =IF(controls!$B$45=1,$AS$12,AK3*AJ3/AL3),\n",
       " 'normal case!AL3': normal case!AL3 -> 1,\n",
       " 'normal case!AK3': normal case!AK3 -> 1,\n",
       " 'normal case!AH3': normal case!AH3 -> =IF(controls!$B$33=1,(B4-B3*AC4-I4+D3*AD4+'main page'!$K$27*'main page'!$K$24)/'main page'!$K$31,(B4-B3*AC4+D3*AD4-H4+'main page'!$K$27*'main page'!$K$24)/'main page'!$K$31),\n",
       " 'normal case!B3': normal case!B3 -> =IF(controls!$B$33=1,($AS$3/(1+('main page'!$K$35/100))^4)*(1+AC3),AS3*(1+AC3)),\n",
       " 'normal case!AC4': normal case!AC4 -> 0,\n",
       " 'normal case!I4': normal case!I4 -> =(I5+'main page'!$K$27*$AS$5*(AD4+'main page'!$K$35/100))/(1+(AD4+'main page'!$K$35/100)),\n",
       " 'normal case!D3': normal case!D3 -> =IF(E3>0,E3,0.1),\n",
       " 'normal case!E3': normal case!E3 -> =IF(controls!$B$33=1,G3,F3),\n",
       " 'normal case!G3': normal case!G3 -> =IF(controls!$B$44=0,I3-'main page'!$K$27*$AS$5,I3-'main page'!$K$27*$AS$5+'main page'!$K$31*AV5),\n",
       " 'normal case!F3': normal case!F3 -> =IF(controls!$B$44=0,H3-'main page'!$K$27*'normal case'!AS5,H3-'main page'!$K$27*AS6+'main page'!$K$31*AV5),\n",
       " 'normal case!H3': normal case!H3 -> =$AP$3,\n",
       " 'normal case!AS5': normal case!AS5 -> =(AP3-AS3)/'main page'!K27,\n",
       " 'normal case!AS6': normal case!AS6 -> ='main page'!K24,\n",
       " 'normal case!AV5': normal case!AV5 -> =(AS3-AP3+'main page'!K27*AS6)/'main page'!K31,\n",
       " 'normal case!AS3': normal case!AS3 -> 100,\n",
       " 'normal case!I3': normal case!I3 -> =(I4+'main page'!$K$27*$AS$5*(AD3+'main page'!$K$35/100))/(1+AD3+('main page'!$K$35/100)),\n",
       " 'normal case!AD3': normal case!AD3 -> 0,\n",
       " 'main page!K35': main page!K35 -> None,\n",
       " 'normal case!AC3': normal case!AC3 -> 0,\n",
       " 'normal case!AS12': normal case!AS12 -> 1,\n",
       " 'normal case!AJ3': normal case!AJ3 -> =IF(ABS(1.025^AI3-1)<0.000000000001,1,1.025^AI3),\n",
       " 'controls!B46': controls!B46 -> 0,\n",
       " 'main page!K25': main page!K25 -> 1,\n",
       " 'main page!U13': main page!U13 -> 1,\n",
       " 'main page!K29': main page!K29 -> =controls!B32/10,\n",
       " 'normal case!L3': normal case!L3 -> =($AS$11/100)*100,\n",
       " 'main page!U8': main page!U8 -> 2,\n",
       " 'normal case!AS11': normal case!AS11 -> =IF(controls!$B$44+controls!$B$45+controls!$B$46=2,'main page'!$K$32,'main page'!$U$8),\n",
       " 'main page!K32': main page!K32 -> None,\n",
       " 'controls!B32': controls!B32 -> 10,\n",
       " 'controls!H4': controls!H4 -> =IF(G4<0.66,1,2),\n",
       " 'normal case!L4': normal case!L4 -> =IF(ABS('main page'!$K$29*L3+(1-'main page'!$K$29)*($AS$11/100)*100+'main page'!$K$25*(D4-B4)-L3)<0.0000001,L3,'main page'!$K$29*L3+(1-'main page'!$K$29)*($AS$11/100)*100+'main page'!$K$25*(D4-B4)),\n",
       " 'normal case!AJ4': normal case!AJ4 -> =IF(ABS(1.025^AI4-1)<0.000000000001,1,1.025^AI4),\n",
       " 'controls!B10': controls!B10 -> 2,\n",
       " 'controls!B44:B46': controls!B44:B46,\n",
       " 'normal case!U4': normal case!U4 -> =IF(controls!$B$45=1,IF(controls!$B$46=1,'main page'!$K$24+'main page'!$U$8,'main page'!$K$24+'main page'!$K$32),IF(V4<0,0,V4)),\n",
       " 'normal case!V4': normal case!V4 -> =IF(controls!$B$10=1,'normal case'!T4+'normal case'!L4,'normal case'!W4),\n",
       " 'normal case!W4': normal case!W4 -> =IF(X4<0,0,X4),\n",
       " 'normal case!X4': normal case!X4 -> =IF(controls!$B$44=0,Y4+'main page'!$K$29*L4+(1-'main page'!$K$29)*'main page'!$U$8+(('main page'!$K$25*'main page'!$U$13*'main page'!$K$29)/('main page'!$K$27*(1+('main page'!$K$25^2)*'main page'!$U$13)))*(L4-('main page'!$U$8/100)*100),Y4+'main page'!$K$29*L4+(1-'main page'!$K$29)*'main page'!$U$8+(('main page'!$K$25*'main page'!$U$13*'normal case'!$AV$3)/'normal case'!$AV$4)*('normal case'!L4-'main page'!$U$8)),\n",
       " 'normal case!Y4': normal case!Y4 -> =IF(controls!$B$44=1,'main page'!$K$24,IF(controls!$B$33=1,(I5-D4*AD5-B5+B4*AC5)/'main page'!$K$27,(H5-D4*AD5-B5+B4*AC5)/'main page'!$K$27)),\n",
       " 'normal case!AV4': normal case!AV4 -> ='main page'!K27+('main page'!K31/(1-'normal case'!AV3)),\n",
       " 'normal case!L5': normal case!L5 -> =IF(ABS('main page'!$K$29*L4+(1-'main page'!$K$29)*($AS$11/100)*100+'main page'!$K$25*(D5-B5)-L4)<0.0000001,L4,'main page'!$K$29*L4+(1-'main page'!$K$29)*($AS$11/100)*100+'main page'!$K$25*(D5-B5)),\n",
       " 'normal case!AJ5': normal case!AJ5 -> =IF(ABS(1.025^AI5-1)<0.000000000001,1,1.025^AI5),\n",
       " 'normal case!U5': normal case!U5 -> =IF(controls!$B$45=1,IF(controls!$B$46=1,'main page'!$K$24+'main page'!$U$8,'main page'!$K$24+'main page'!$K$32),IF(V5<0,0,V5)),\n",
       " 'normal case!V5': normal case!V5 -> =IF(controls!$B$10=1,'normal case'!T5+'normal case'!L5,'normal case'!W5),\n",
       " 'normal case!W5': normal case!W5 -> =IF(X5<0,0,X5),\n",
       " 'normal case!X5': normal case!X5 -> =IF(controls!$B$44=0,Y5+'main page'!$K$29*L5+(1-'main page'!$K$29)*'main page'!$U$8+(('main page'!$K$25*'main page'!$U$13*'main page'!$K$29)/('main page'!$K$27*(1+('main page'!$K$25^2)*'main page'!$U$13)))*(L5-('main page'!$U$8/100)*100),Y5+'main page'!$K$29*L5+(1-'main page'!$K$29)*'main page'!$U$8+(('main page'!$K$25*'main page'!$U$13*'normal case'!$AV$3)/'normal case'!$AV$4)*('normal case'!L5-'main page'!$U$8)),\n",
       " 'normal case!Y5': normal case!Y5 -> =IF(controls!$B$44=1,'main page'!$K$24,IF(controls!$B$33=1,(I6-D5*AD6-B6+B5*AC6)/'main page'!$K$27,(H6-D5*AD6-B6+B5*AC6)/'main page'!$K$27)),\n",
       " 'main page!K8': main page!K8 -> None,\n",
       " 'normal case!AS4': normal case!AS4 -> 100,\n",
       " 'normal case!AP7': normal case!AP7 -> ='main page'!K24,\n",
       " 'normal case!AS9': normal case!AS9 -> 0}"
      ]
     },
     "execution_count": 4,
     "metadata": {},
     "output_type": "execute_result"
    }
   ],
   "source": [
    "excel.cell_map"
   ]
  },
  {
   "cell_type": "code",
   "execution_count": 5,
   "metadata": {},
   "outputs": [],
   "source": [
    "excel.set_value('main page!K27', 100)"
   ]
  },
  {
   "cell_type": "code",
   "execution_count": 6,
   "metadata": {},
   "outputs": [
    {
     "ename": "",
     "evalue": "",
     "output_type": "error",
     "traceback": [
      "\u001b[1;31mCanceled future for execute_request message before replies were done"
     ]
    },
    {
     "ename": "",
     "evalue": "",
     "output_type": "error",
     "traceback": [
      "\u001b[1;31mThe Kernel crashed while executing code in the the current cell or a previous cell. Please review the code in the cell(s) to identify a possible cause of the failure. Click <a href='https://aka.ms/vscodeJupyterKernelCrash'>here</a> for more info. View Jupyter <a href='command:jupyter.viewOutput'>log</a> for further details."
     ]
    }
   ],
   "source": [
    "logging.getLogger().setLevel(logging.DEBUG)\n",
    "display(excel.evaluate('normal case!I7'))"
   ]
  },
  {
   "cell_type": "code",
   "execution_count": 2,
   "metadata": {},
   "outputs": [
    {
     "name": "stdout",
     "output_type": "stream",
     "text": [
      "Error\n",
      "Address \"main page!G11\" not found in the cell map. Evaluate the address, or an address that references it, to place it in the cell map.\n"
     ]
    }
   ],
   "source": [
    "try:\n",
    "    excel.set_value('main page!G11', 5)\n",
    "except Exception as e:\n",
    "    print(\"Error\")\n",
    "    print(e)"
   ]
  },
  {
   "cell_type": "code",
   "execution_count": 16,
   "metadata": {},
   "outputs": [
    {
     "ename": "",
     "evalue": "",
     "output_type": "error",
     "traceback": [
      "\u001b[1;31mCanceled future for execute_request message before replies were done"
     ]
    },
    {
     "ename": "",
     "evalue": "",
     "output_type": "error",
     "traceback": [
      "\u001b[1;31mThe Kernel crashed while executing code in the the current cell or a previous cell. Please review the code in the cell(s) to identify a possible cause of the failure. Click <a href='https://aka.ms/vscodeJupyterKernelCrash'>here</a> for more info. View Jupyter <a href='command:jupyter.viewOutput'>log</a> for further details."
     ]
    }
   ],
   "source": [
    "excel.evaluate(\"main page!a1:z45\")\n",
    "excel.evaluate(\"controls!a1:C83\")\n",
    "excel.evaluate(\"controls!G1:I650\")\n",
    "excel.evaluate(\"normal case!A1:L3\")\n",
    "excel.evaluate(\"normal case!A1:AI500\")\n",
    "print()\n",
    "\n",
    "try:\n",
    "    excel.set_value('main page!G11', 5)\n",
    "except Exception as e:\n",
    "    print(\"Error\")\n",
    "    print(e)"
   ]
  },
  {
   "cell_type": "code",
   "execution_count": 4,
   "metadata": {},
   "outputs": [
    {
     "name": "stdout",
     "output_type": "stream",
     "text": [
      "5\n",
      "sdd\n"
     ]
    }
   ],
   "source": [
    "print(excel.evaluate(\"main page!G11\"))\n",
    "print('sdd')\n",
    "\n"
   ]
  },
  {
   "cell_type": "code",
   "execution_count": 2,
   "metadata": {},
   "outputs": [
    {
     "name": "stdout",
     "output_type": "stream",
     "text": [
      "46320\n"
     ]
    },
    {
     "data": {
      "text/plain": [
       "{}"
      ]
     },
     "execution_count": 2,
     "metadata": {},
     "output_type": "execute_result"
    }
   ],
   "source": [
    "formula_cells = excel.formula_cells()\n",
    "print(len(formula_cells))\n",
    "\n",
    "excel.cell_map"
   ]
  },
  {
   "cell_type": "code",
   "execution_count": 6,
   "metadata": {},
   "outputs": [
    {
     "name": "stdout",
     "output_type": "stream",
     "text": [
      "normal case!L3 is 2\n",
      "normal case!N4 is 2\n",
      "normal case!M4 is 2\n",
      "normal case!M3:M13 is (2, 2, 2, 2, 1, 1, 1, 1, 1, 1, 1)\n"
     ]
    }
   ],
   "source": [
    "address = 'normal case!L3'\n",
    "print(address + \" is {}\".format(excel.evaluate(address)))\n",
    "\n",
    "address = 'normal case!N4'\n",
    "print(address + \" is {}\".format(excel.evaluate(address)))\n",
    "\n",
    "address = 'normal case!M4'\n",
    "print(address + \" is {}\".format(excel.evaluate(address)))\n",
    "\n",
    "address = 'normal case!M3:M13'\n",
    "print(address + \" is {}\".format(excel.evaluate(address)))\n"
   ]
  },
  {
   "cell_type": "code",
   "execution_count": 7,
   "metadata": {},
   "outputs": [
    {
     "name": "stdout",
     "output_type": "stream",
     "text": [
      "main page!G11 is 1\n",
      "normal case!L3 is 2\n",
      "normal case!N4 is 2\n",
      "normal case!M4 is 2\n"
     ]
    }
   ],
   "source": [
    "address = 'main page!G11'\n",
    "excel.set_value(address, 1)\n",
    "print(address + \" is {}\".format(excel.evaluate(address)))\n",
    "\n",
    "address = 'normal case!L3'\n",
    "print(address + \" is {}\".format(excel.evaluate(address)))\n",
    "\n",
    "address = 'normal case!N4'\n",
    "print(address + \" is {}\".format(excel.evaluate(address)))\n",
    "\n",
    "address = 'normal case!M4'\n",
    "print(address + \" is {}\".format(excel.evaluate(address)))\n",
    "\n"
   ]
  },
  {
   "cell_type": "code",
   "execution_count": 8,
   "metadata": {},
   "outputs": [
    {
     "name": "stdout",
     "output_type": "stream",
     "text": [
      "normal case!N5 is 2\n",
      "normal case!M5 is 2\n",
      "normal case!N6 is 2\n",
      "normal case!M6 is 2\n"
     ]
    }
   ],
   "source": [
    "address = 'normal case!N5'\n",
    "print(address + \" is {}\".format(excel.evaluate(address)))\n",
    "\n",
    "address = 'normal case!M5'\n",
    "print(address + \" is {}\".format(excel.evaluate(address)))\n",
    "\n",
    "address = 'normal case!N6'\n",
    "print(address + \" is {}\".format(excel.evaluate(address)))\n",
    "\n",
    "address = 'normal case!M6'\n",
    "print(address + \" is {}\".format(excel.evaluate(address)))\n",
    "\n"
   ]
  },
  {
   "cell_type": "code",
   "execution_count": 9,
   "metadata": {},
   "outputs": [
    {
     "name": "stdout",
     "output_type": "stream",
     "text": [
      "normal case!O3:S6 is ((None, None, None, None, None), (None, None, None, None, None), (None, None, None, None, None), (None, None, None, None, None))\n"
     ]
    }
   ],
   "source": [
    "try:\n",
    "    address = 'normal case!O3:S6'\n",
    "    print(address + \" is {}\".format(excel.evaluate(address)))\n",
    "except Exception as e:\n",
    "    print(address)\n",
    "\n"
   ]
  },
  {
   "cell_type": "code",
   "execution_count": 10,
   "metadata": {},
   "outputs": [
    {
     "name": "stdout",
     "output_type": "stream",
     "text": [
      "normal case!N3:S6 is ((None, None, None, None, None, None), (2, None, None, None, None, None), (2, None, None, None, None, None), (2, None, None, None, None, None))\n"
     ]
    }
   ],
   "source": [
    "try:\n",
    "    address = 'normal case!N3:S6'\n",
    "    print(address + \" is {}\".format(excel.evaluate(address)))\n",
    "except Exception as e:\n",
    "    print(address)\n"
   ]
  },
  {
   "cell_type": "code",
   "execution_count": 11,
   "metadata": {},
   "outputs": [
    {
     "name": "stdout",
     "output_type": "stream",
     "text": [
      "normal case!M3:S7 is ((2, None, None, None, None, None, None), (2, 2, None, None, None, None, None), (2, 2, None, None, None, None, None), (2, 2, None, None, None, None, None), (1, 1, 3, -2, 0, 11, 11))\n"
     ]
    }
   ],
   "source": [
    "\n",
    "\n",
    "try:\n",
    "    address = 'normal case!M3:S7'\n",
    "    print(address + \" is {}\".format(excel.evaluate(address)))\n",
    "except Exception as e:\n",
    "    print(address)\n",
    "\n"
   ]
  },
  {
   "cell_type": "code",
   "execution_count": 12,
   "metadata": {},
   "outputs": [
    {
     "name": "stdout",
     "output_type": "stream",
     "text": [
      "normal case!R8 is 1\n",
      "normal case!Q8 is -4.5\n",
      "normal case!S8 is -3.5\n",
      "normal case!O8 is 1\n",
      "normal case!O8 is 1\n"
     ]
    }
   ],
   "source": [
    "address = 'normal case!R8'\n",
    "print(address + \" is {}\".format(excel.evaluate(address)))\n",
    "address = 'normal case!Q8'\n",
    "print(address + \" is {}\".format(excel.evaluate(address)))\n",
    "address = 'normal case!S8'\n",
    "print(address + \" is {}\".format(excel.evaluate(address)))\n",
    "address = 'normal case!O8'\n",
    "print(address + \" is {}\".format(excel.evaluate(address)))\n",
    "#address = 'normal case!P8'\n",
    "print(address + \" is {}\".format(excel.evaluate(address)))\n"
   ]
  },
  {
   "cell_type": "code",
   "execution_count": 13,
   "metadata": {},
   "outputs": [],
   "source": [
    "\n",
    "formula = \"\"\"='main page'!G11\"\"\"\n"
   ]
  },
  {
   "cell_type": "code",
   "execution_count": 14,
   "metadata": {},
   "outputs": [],
   "source": [
    "# As an alternative to using evaluate to put cells in the graph and\n",
    "# as a way to trim down the size of the file to just that needed.\n",
    "#excel.trim_graph(input_addrs=['main page!G8', 'main page!G11', 'controls!B44:B46'], output_addrs=['normal case!L3:L22', 'controls!B44:B46'])\n",
    "\n",
    "#excel.validate_calcs(output_addrs=[address])\n",
    "#excel.validate_calcs(output_addrs=['normal case!L7'])\n"
   ]
  },
  {
   "cell_type": "code",
   "execution_count": null,
   "metadata": {},
   "outputs": [],
   "source": []
  }
 ],
 "metadata": {
  "kernelspec": {
   "display_name": "Python 3.9.13 64-bit (windows store)",
   "language": "python",
   "name": "python3"
  },
  "language_info": {
   "codemirror_mode": {
    "name": "ipython",
    "version": 3
   },
   "file_extension": ".py",
   "mimetype": "text/x-python",
   "name": "python",
   "nbconvert_exporter": "python",
   "pygments_lexer": "ipython3",
   "version": "3.9.13"
  },
  "vscode": {
   "interpreter": {
    "hash": "c46d15a1b4c28c31e9dc683ee4487d3f462082816e759ce09bdb017dc1cea866"
   }
  }
 },
 "nbformat": 4,
 "nbformat_minor": 2
}
