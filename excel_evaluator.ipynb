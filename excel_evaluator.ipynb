{
 "cells": [
  {
   "cell_type": "markdown",
   "metadata": {},
   "source": [
    "# Quick test of Excel in Python"
   ]
  },
  {
   "cell_type": "code",
   "execution_count": 1,
   "metadata": {},
   "outputs": [],
   "source": [
    "%reset -f"
   ]
  },
  {
   "cell_type": "code",
   "execution_count": 2,
   "metadata": {},
   "outputs": [],
   "source": [
    "from xlcalculator import ModelCompiler\n",
    "from xlcalculator import Model\n",
    "from xlcalculator import Evaluator\n",
    "\n",
    "import pandas as pd\n",
    "\n",
    "filename = r'basic.xlsx'\n",
    "json_file_name = filename + r'.json'\n"
   ]
  },
  {
   "cell_type": "markdown",
   "metadata": {},
   "source": [
    "Display the Excel file, the first row shows the formulas of the cells below."
   ]
  },
  {
   "cell_type": "code",
   "execution_count": 36,
   "metadata": {},
   "outputs": [
    {
     "data": {
      "text/html": [
       "<div>\n",
       "<style scoped>\n",
       "    .dataframe tbody tr th:only-of-type {\n",
       "        vertical-align: middle;\n",
       "    }\n",
       "\n",
       "    .dataframe tbody tr th {\n",
       "        vertical-align: top;\n",
       "    }\n",
       "\n",
       "    .dataframe thead th {\n",
       "        text-align: right;\n",
       "    }\n",
       "</style>\n",
       "<table border=\"1\" class=\"dataframe\">\n",
       "  <thead>\n",
       "    <tr style=\"text-align: right;\">\n",
       "      <th></th>\n",
       "      <th>X</th>\n",
       "      <th>2X</th>\n",
       "      <th>X*X</th>\n",
       "      <th>C2</th>\n",
       "      <th>C2*2</th>\n",
       "    </tr>\n",
       "  </thead>\n",
       "  <tbody>\n",
       "    <tr>\n",
       "      <th>0</th>\n",
       "      <td>1</td>\n",
       "      <td>2</td>\n",
       "      <td>1</td>\n",
       "      <td>1</td>\n",
       "      <td>2</td>\n",
       "    </tr>\n",
       "  </tbody>\n",
       "</table>\n",
       "</div>"
      ],
      "text/plain": [
       "   X  2X  X*X  C2  C2*2\n",
       "0  1   2    1   1     2"
      ]
     },
     "execution_count": 36,
     "metadata": {},
     "output_type": "execute_result"
    }
   ],
   "source": [
    "pd.read_excel(filename)"
   ]
  },
  {
   "cell_type": "markdown",
   "metadata": {},
   "source": [
    "# Turn the excel file into a python usable code"
   ]
  },
  {
   "cell_type": "code",
   "execution_count": 37,
   "metadata": {},
   "outputs": [],
   "source": [
    "compiler = ModelCompiler()\n",
    "new_model = compiler.read_and_parse_archive(filename, build_code=False)\n",
    "new_model.persist_to_json_file(json_file_name)"
   ]
  },
  {
   "cell_type": "code",
   "execution_count": 38,
   "metadata": {},
   "outputs": [],
   "source": [
    "reconstituted_model = Model()\n",
    "reconstituted_model.construct_from_json_file(json_file_name, build_code=True)\n",
    "\n",
    "evaluator = Evaluator(reconstituted_model)\n"
   ]
  },
  {
   "cell_type": "code",
   "execution_count": 39,
   "metadata": {},
   "outputs": [
    {
     "name": "stdout",
     "output_type": "stream",
     "text": [
      "value 'evaluated' for Sheet1!B2 before update: 2\n",
      "value 'evaluated' for Sheet1!C2 before update: 1\n",
      "value 'evaluated' for Sheet1!E2 before update: 2\n"
     ]
    }
   ],
   "source": [
    "val = evaluator.evaluate('Sheet1!B2')\n",
    "print(\"value 'evaluated' for Sheet1!B2 before update:\", val)\n",
    "val = evaluator.evaluate('Sheet1!C2')\n",
    "print(\"value 'evaluated' for Sheet1!C2 before update:\", val)\n",
    "val = evaluator.evaluate('Sheet1!E2')\n",
    "print(\"value 'evaluated' for Sheet1!E2 before update:\", val)"
   ]
  },
  {
   "cell_type": "markdown",
   "metadata": {},
   "source": [
    "# Test: Change a cell and re evaluate the other cells\n",
    "\n",
    "Make A2=2"
   ]
  },
  {
   "cell_type": "code",
   "execution_count": 40,
   "metadata": {},
   "outputs": [
    {
     "name": "stdout",
     "output_type": "stream",
     "text": [
      "New value for Sheet1!B2: 4\n",
      "New value for Sheet1!C2: 4\n",
      "New value for Sheet1!E2: 8\n"
     ]
    }
   ],
   "source": [
    "# Now we change the value of A2\n",
    "evaluator.set_cell_value('Sheet1!A2', 2)\n",
    "\n",
    "# Evaluate the needed cells\n",
    "val = evaluator.evaluate('Sheet1!B2')\n",
    "print(\"New value for Sheet1!B2:\", val)\n",
    "val = evaluator.evaluate('Sheet1!C2')\n",
    "print(\"New value for Sheet1!C2:\", val)\n",
    "val = evaluator.evaluate('Sheet1!E2')\n",
    "print(\"New value for Sheet1!E2:\", val)"
   ]
  },
  {
   "cell_type": "markdown",
   "metadata": {},
   "source": [
    "Make A2=3"
   ]
  },
  {
   "cell_type": "code",
   "execution_count": 41,
   "metadata": {},
   "outputs": [
    {
     "name": "stdout",
     "output_type": "stream",
     "text": [
      "New value for Sheet1!B2: 6\n",
      "New value for Sheet1!C2: 9\n",
      "New value for Sheet1!E2: 18\n"
     ]
    }
   ],
   "source": [
    "# Now we change the value of A2\n",
    "evaluator.set_cell_value('Sheet1!A2', 3)\n",
    "\n",
    "# Evaluate the needed cells\n",
    "val = evaluator.evaluate('Sheet1!B2')\n",
    "print(\"New value for Sheet1!B2:\", val)\n",
    "val = evaluator.evaluate('Sheet1!C2')\n",
    "print(\"New value for Sheet1!C2:\", val)\n",
    "val = evaluator.evaluate('Sheet1!E2')\n",
    "print(\"New value for Sheet1!E2:\", val)"
   ]
  },
  {
   "cell_type": "code",
   "execution_count": 44,
   "metadata": {},
   "outputs": [
    {
     "name": "stdout",
     "output_type": "stream",
     "text": [
      "\n"
     ]
    }
   ],
   "source": [
    "print(evaluator.evaluate('Sheet1!A2:C2'))"
   ]
  },
  {
   "cell_type": "markdown",
   "metadata": {},
   "source": [
    "# Now try loading the Excel simulator"
   ]
  },
  {
   "cell_type": "code",
   "execution_count": null,
   "metadata": {},
   "outputs": [],
   "source": [
    "filename = r'carlin_soskice_macroeconomic_simulator (unprotected).xlsx'\n",
    "json_file_name = filename + r'.json'\n",
    "\n",
    "compiler = ModelCompiler()\n",
    "new_model = compiler.read_and_parse_archive(filename, build_code=False, ignore_hidden=True, ignore_sheets=[])\n",
    "new_model.persist_to_json_file(json_file_name)"
   ]
  },
  {
   "cell_type": "code",
   "execution_count": 3,
   "metadata": {},
   "outputs": [],
   "source": [
    "filename = r'carlin_soskice_macroeconomic_simulator (unprotected) (2).xlsx'\n",
    "json_file_name = filename + r'.json'\n",
    "\n",
    "compiler = ModelCompiler()\n"
   ]
  },
  {
   "cell_type": "markdown",
   "metadata": {},
   "source": [
    "Something went wrong, but it might be fixable. **I don't know**. \n"
   ]
  },
  {
   "cell_type": "code",
   "execution_count": 68,
   "metadata": {},
   "outputs": [
    {
     "ename": "ValueError",
     "evalue": "B4=1 is not a valid coordinate or range",
     "output_type": "error",
     "traceback": [
      "\u001b[1;31m---------------------------------------------------------------------------\u001b[0m",
      "\u001b[1;31mValueError\u001b[0m                                Traceback (most recent call last)",
      "\u001b[1;32mc:\\Users\\jibon\\Coding\\macroSim\\excel_evaluator.ipynb Cell 2'\u001b[0m in \u001b[0;36m<cell line: 5>\u001b[1;34m()\u001b[0m\n\u001b[0;32m      <a href='vscode-notebook-cell:/c%3A/Users/jibon/Coding/macroSim/excel_evaluator.ipynb#ch0000001?line=0'>1</a>\u001b[0m xlx \u001b[39m=\u001b[39m compiler\u001b[39m.\u001b[39mread_excel_file(filename)\n\u001b[0;32m      <a href='vscode-notebook-cell:/c%3A/Users/jibon/Coding/macroSim/excel_evaluator.ipynb#ch0000001?line=1'>2</a>\u001b[0m sheetsnames \u001b[39m=\u001b[39m xlx\u001b[39m.\u001b[39mbook\u001b[39m.\u001b[39msheetnames\n\u001b[1;32m----> <a href='vscode-notebook-cell:/c%3A/Users/jibon/Coding/macroSim/excel_evaluator.ipynb#ch0000001?line=4'>5</a>\u001b[0m compiler\u001b[39m.\u001b[39;49mread_and_parse_archive(filename, build_code\u001b[39m=\u001b[39;49m\u001b[39mFalse\u001b[39;49;00m, ignore_sheets\u001b[39m=\u001b[39;49m[])\n",
      "File \u001b[1;32m~\\AppData\\Local\\Packages\\PythonSoftwareFoundation.Python.3.9_qbz5n2kfra8p0\\LocalCache\\local-packages\\Python39\\site-packages\\xlcalculator\\model.py:184\u001b[0m, in \u001b[0;36mModelCompiler.read_and_parse_archive\u001b[1;34m(self, file_name, ignore_sheets, ignore_hidden, build_code)\u001b[0m\n\u001b[0;32m    179\u001b[0m \u001b[39mdef\u001b[39;00m \u001b[39mread_and_parse_archive\u001b[39m(\n\u001b[0;32m    180\u001b[0m         \u001b[39mself\u001b[39m, file_name\u001b[39m=\u001b[39m\u001b[39mNone\u001b[39;00m, ignore_sheets\u001b[39m=\u001b[39m[], ignore_hidden\u001b[39m=\u001b[39m\u001b[39mFalse\u001b[39;00m,\n\u001b[0;32m    181\u001b[0m         build_code\u001b[39m=\u001b[39m\u001b[39mTrue\u001b[39;00m\n\u001b[0;32m    182\u001b[0m ):\n\u001b[0;32m    183\u001b[0m     archive \u001b[39m=\u001b[39m \u001b[39mself\u001b[39m\u001b[39m.\u001b[39mread_excel_file(file_name)\n\u001b[1;32m--> 184\u001b[0m     \u001b[39mself\u001b[39;49m\u001b[39m.\u001b[39;49mparse_archive(\n\u001b[0;32m    185\u001b[0m         archive, ignore_sheets\u001b[39m=\u001b[39;49mignore_sheets, ignore_hidden\u001b[39m=\u001b[39;49mignore_hidden)\n\u001b[0;32m    187\u001b[0m     \u001b[39mif\u001b[39;00m build_code:\n\u001b[0;32m    188\u001b[0m         \u001b[39mself\u001b[39m\u001b[39m.\u001b[39mmodel\u001b[39m.\u001b[39mbuild_code()\n",
      "File \u001b[1;32m~\\AppData\\Local\\Packages\\PythonSoftwareFoundation.Python.3.9_qbz5n2kfra8p0\\LocalCache\\local-packages\\Python39\\site-packages\\xlcalculator\\model.py:175\u001b[0m, in \u001b[0;36mModelCompiler.parse_archive\u001b[1;34m(self, archive, ignore_sheets, ignore_hidden)\u001b[0m\n\u001b[0;32m    171\u001b[0m \u001b[39mself\u001b[39m\u001b[39m.\u001b[39mmodel\u001b[39m.\u001b[39mcells, \u001b[39mself\u001b[39m\u001b[39m.\u001b[39mmodel\u001b[39m.\u001b[39mformulae, \u001b[39mself\u001b[39m\u001b[39m.\u001b[39mmodel\u001b[39m.\u001b[39mranges \u001b[39m=\u001b[39m \\\n\u001b[0;32m    172\u001b[0m     archive\u001b[39m.\u001b[39mread_cells(ignore_sheets, ignore_hidden)\n\u001b[0;32m    173\u001b[0m \u001b[39mself\u001b[39m\u001b[39m.\u001b[39mdefined_names \u001b[39m=\u001b[39m archive\u001b[39m.\u001b[39mread_defined_names(\n\u001b[0;32m    174\u001b[0m     ignore_sheets, ignore_hidden)\n\u001b[1;32m--> 175\u001b[0m \u001b[39mself\u001b[39;49m\u001b[39m.\u001b[39;49mbuild_defined_names()\n\u001b[0;32m    176\u001b[0m \u001b[39mself\u001b[39m\u001b[39m.\u001b[39mlink_cells_to_defined_names()\n\u001b[0;32m    177\u001b[0m \u001b[39mself\u001b[39m\u001b[39m.\u001b[39mbuild_ranges()\n",
      "File \u001b[1;32m~\\AppData\\Local\\Packages\\PythonSoftwareFoundation.Python.3.9_qbz5n2kfra8p0\\LocalCache\\local-packages\\Python39\\site-packages\\xlcalculator\\model.py:245\u001b[0m, in \u001b[0;36mModelCompiler.build_defined_names\u001b[1;34m(self)\u001b[0m\n\u001b[0;32m    241\u001b[0m             \u001b[39mself\u001b[39m\u001b[39m.\u001b[39mmodel\u001b[39m.\u001b[39mdefined_names[name] \u001b[39m=\u001b[39m \\\n\u001b[0;32m    242\u001b[0m                 \u001b[39mself\u001b[39m\u001b[39m.\u001b[39mmodel\u001b[39m.\u001b[39mcells[cell_address]\n\u001b[0;32m    244\u001b[0m \u001b[39melse\u001b[39;00m:\n\u001b[1;32m--> 245\u001b[0m     \u001b[39mself\u001b[39m\u001b[39m.\u001b[39mmodel\u001b[39m.\u001b[39mdefined_names[name] \u001b[39m=\u001b[39m xltypes\u001b[39m.\u001b[39;49mXLRange(\n\u001b[0;32m    246\u001b[0m         cell_address, name\u001b[39m=\u001b[39;49mname)\n\u001b[0;32m    247\u001b[0m     \u001b[39mself\u001b[39m\u001b[39m.\u001b[39mmodel\u001b[39m.\u001b[39mranges[cell_address] \u001b[39m=\u001b[39m \\\n\u001b[0;32m    248\u001b[0m         \u001b[39mself\u001b[39m\u001b[39m.\u001b[39mmodel\u001b[39m.\u001b[39mdefined_names[name]\n\u001b[0;32m    250\u001b[0m \u001b[39mif\u001b[39;00m (\n\u001b[0;32m    251\u001b[0m         cell_address \u001b[39min\u001b[39;00m \u001b[39mself\u001b[39m\u001b[39m.\u001b[39mmodel\u001b[39m.\u001b[39mformulae\n\u001b[0;32m    252\u001b[0m         \u001b[39mand\u001b[39;00m name \u001b[39mnot\u001b[39;00m \u001b[39min\u001b[39;00m \u001b[39mself\u001b[39m\u001b[39m.\u001b[39mmodel\u001b[39m.\u001b[39mformulae\n\u001b[0;32m    253\u001b[0m ):\n",
      "File \u001b[1;32m<string>:6\u001b[0m, in \u001b[0;36m__init__\u001b[1;34m(self, address_str, name, value)\u001b[0m\n",
      "File \u001b[1;32m~\\AppData\\Local\\Packages\\PythonSoftwareFoundation.Python.3.9_qbz5n2kfra8p0\\LocalCache\\local-packages\\Python39\\site-packages\\xlcalculator\\xltypes.py:90\u001b[0m, in \u001b[0;36mXLRange.__post_init__\u001b[1;34m(self)\u001b[0m\n\u001b[0;32m     88\u001b[0m \u001b[39mif\u001b[39;00m \u001b[39mself\u001b[39m\u001b[39m.\u001b[39mname \u001b[39mis\u001b[39;00m \u001b[39mNone\u001b[39;00m:\n\u001b[0;32m     89\u001b[0m     \u001b[39mself\u001b[39m\u001b[39m.\u001b[39mname \u001b[39m=\u001b[39m \u001b[39mself\u001b[39m\u001b[39m.\u001b[39maddress_str\n\u001b[1;32m---> 90\u001b[0m \u001b[39mself\u001b[39m\u001b[39m.\u001b[39msheet, \u001b[39mself\u001b[39m\u001b[39m.\u001b[39mcells \u001b[39m=\u001b[39m utils\u001b[39m.\u001b[39;49mresolve_ranges(\u001b[39mself\u001b[39;49m\u001b[39m.\u001b[39;49maddress_str)\n",
      "File \u001b[1;32m~\\AppData\\Local\\Packages\\PythonSoftwareFoundation.Python.3.9_qbz5n2kfra8p0\\LocalCache\\local-packages\\Python39\\site-packages\\xlcalculator\\utils.py:44\u001b[0m, in \u001b[0;36mresolve_ranges\u001b[1;34m(ranges, default_sheet)\u001b[0m\n\u001b[0;32m     39\u001b[0m         \u001b[39mraise\u001b[39;00m \u001b[39mValueError\u001b[39;00m(\n\u001b[0;32m     40\u001b[0m             \u001b[39mf\u001b[39m\u001b[39m'\u001b[39m\u001b[39mGot multiple different sheets in ranges: \u001b[39m\u001b[39m'\u001b[39m\n\u001b[0;32m     41\u001b[0m             \u001b[39mf\u001b[39m\u001b[39m'\u001b[39m\u001b[39m{\u001b[39;00msheet\u001b[39m}\u001b[39;00m\u001b[39m, \u001b[39m\u001b[39m{\u001b[39;00mrng_sheet\u001b[39m}\u001b[39;00m\u001b[39m'\u001b[39m\n\u001b[0;32m     42\u001b[0m         )\n\u001b[0;32m     43\u001b[0m     sheet \u001b[39m=\u001b[39m rng_sheet\n\u001b[1;32m---> 44\u001b[0m min_col, min_row, max_col, max_row \u001b[39m=\u001b[39m range_boundaries(rng)\n\u001b[0;32m     46\u001b[0m \u001b[39m# Unbound ranges (e.g., A:A) might not have these set!\u001b[39;00m\n\u001b[0;32m     47\u001b[0m min_col \u001b[39m=\u001b[39m min_col \u001b[39mor\u001b[39;00m \u001b[39m1\u001b[39m\n",
      "File \u001b[1;32m~\\AppData\\Local\\Packages\\PythonSoftwareFoundation.Python.3.9_qbz5n2kfra8p0\\LocalCache\\local-packages\\Python39\\site-packages\\openpyxl\\utils\\cell.py:135\u001b[0m, in \u001b[0;36mrange_boundaries\u001b[1;34m(range_string)\u001b[0m\n\u001b[0;32m    133\u001b[0m m \u001b[39m=\u001b[39m ABSOLUTE_RE\u001b[39m.\u001b[39mmatch(range_string)\n\u001b[0;32m    134\u001b[0m \u001b[39mif\u001b[39;00m \u001b[39mnot\u001b[39;00m m:\n\u001b[1;32m--> 135\u001b[0m     \u001b[39mraise\u001b[39;00m \u001b[39mValueError\u001b[39;00m(msg)\n\u001b[0;32m    137\u001b[0m min_col, min_row, sep, max_col, max_row \u001b[39m=\u001b[39m m\u001b[39m.\u001b[39mgroups()\n\u001b[0;32m    139\u001b[0m \u001b[39mif\u001b[39;00m sep:\n",
      "\u001b[1;31mValueError\u001b[0m: B4=1 is not a valid coordinate or range"
     ]
    }
   ],
   "source": [
    "xlx = compiler.read_excel_file(filename)\n",
    "sheetsnames = xlx.book.sheetnames\n",
    "\n",
    "\n",
    "compiler.read_and_parse_archive(filename, build_code=False, ignore_sheets=sheetsnames)"
   ]
  },
  {
   "cell_type": "code",
   "execution_count": 67,
   "metadata": {},
   "outputs": [
    {
     "data": {
      "text/plain": [
       "['main page',\n",
       " 'public finance',\n",
       " 'controls',\n",
       " '\"normal\" case',\n",
       " 'exchange rates',\n",
       " 'external balance',\n",
       " 'gráficos PC, MR, IS',\n",
       " 'inflation, income and inter-2',\n",
       " 'inflation, income and interest',\n",
       " 'hystere',\n",
       " 'delay in perception',\n",
       " 'figures on public finance',\n",
       " 'numerical results',\n",
       " 'input own m.p.',\n",
       " 'choose m.p.',\n",
       " 'choose m.p. (endogenous policy)',\n",
       " 'beta estimation(inputs)',\n",
       " 'loss level and beta es(outputs)',\n",
       " 'loss level(inputs)',\n",
       " 'compare results',\n",
       " 'Hoja1']"
      ]
     },
     "execution_count": 67,
     "metadata": {},
     "output_type": "execute_result"
    }
   ],
   "source": [
    "sheetsnames"
   ]
  },
  {
   "cell_type": "code",
   "execution_count": null,
   "metadata": {},
   "outputs": [],
   "source": []
  },
  {
   "cell_type": "code",
   "execution_count": 66,
   "metadata": {},
   "outputs": [
    {
     "data": {
      "text/plain": [
       "<function xlcalculator.model.ModelCompiler.build_defined_names(self)>"
      ]
     },
     "execution_count": 66,
     "metadata": {},
     "output_type": "execute_result"
    }
   ],
   "source": [
    "from xlcalculator import patch, xltypes\n",
    "from xlcalculator import reader\n",
    "\n",
    "cells = {}\n",
    "formulae = {}\n",
    "ranges = {}\n",
    "\n",
    "sheet_name = \"Hoja1\"\n",
    "sheet = xlx.book[sheet_name]\n",
    "for cell in sheet._cells.values():\n",
    "    addr = f'{sheet_name}!{cell.coordinate}'\n",
    "\n",
    "    if cell.data_type == 'f':\n",
    "        formula = xltypes.XLFormula(cell.value, sheet_name)\n",
    "        formulae[addr] = formula\n",
    "        value = cell.cvalue\n",
    "    else:\n",
    "        formula = None\n",
    "        value = cell.value\n",
    "\n",
    "    cells[addr] = xltypes.XLCell(\n",
    "        addr, value=value, formula=formula)\n",
    "\n",
    "\n",
    "# Read Defined Names\n",
    "{\n",
    "    defn.name: defn.value\n",
    "    for defn in xlx.book.defined_names\n",
    "    if defn.hidden is None and defn.value != '#REF!'\n",
    "}\n",
    "\n",
    "\n",
    "ModelCompiler"
   ]
  },
  {
   "cell_type": "code",
   "execution_count": 6,
   "metadata": {},
   "outputs": [],
   "source": [
    "from xlcalculator import patch, xltypes, evaluator, ast_nodes, parser\n",
    "import logging\n",
    "from xlcalculator.xlfunctions import xl, func_xltypes\n"
   ]
  },
  {
   "cell_type": "code",
   "execution_count": 7,
   "metadata": {},
   "outputs": [
    {
     "name": "stdout",
     "output_type": "stream",
     "text": [
      "WOOOOO\n",
      "bullets_random_shocks_gdp\n",
      "IF(controls!B4=1,'\"normal\" case'!AX3:AX22,'\"normal\" case'!BB3:BB22)\n",
      "IF((controls!B4) = (1), \"normal\" case!AX3:AX22, \"normal\" case!BB3:BB22)\n"
     ]
    },
    {
     "ename": "ValueError",
     "evalue": "B4=1 is not a valid coordinate or range",
     "output_type": "error",
     "traceback": [
      "\u001b[1;31m---------------------------------------------------------------------------\u001b[0m",
      "\u001b[1;31mValueError\u001b[0m                                Traceback (most recent call last)",
      "\u001b[1;32mc:\\Users\\jibon\\Coding\\macroSim\\excel_evaluator.ipynb Cell 24'\u001b[0m in \u001b[0;36m<cell line: 79>\u001b[1;34m()\u001b[0m\n\u001b[0;32m     <a href='vscode-notebook-cell:/c%3A/Users/jibon/Coding/macroSim/excel_evaluator.ipynb#ch0000023?line=74'>75</a>\u001b[0m                 \u001b[39mself\u001b[39m\u001b[39m.\u001b[39mmodel\u001b[39m.\u001b[39mformulae[name] \u001b[39m=\u001b[39m \\\n\u001b[0;32m     <a href='vscode-notebook-cell:/c%3A/Users/jibon/Coding/macroSim/excel_evaluator.ipynb#ch0000023?line=75'>76</a>\u001b[0m                     \u001b[39mself\u001b[39m\u001b[39m.\u001b[39mmodel\u001b[39m.\u001b[39mcells[cell_address]\u001b[39m.\u001b[39mformula\n\u001b[0;32m     <a href='vscode-notebook-cell:/c%3A/Users/jibon/Coding/macroSim/excel_evaluator.ipynb#ch0000023?line=77'>78</a>\u001b[0m test \u001b[39m=\u001b[39m ModelCompiler_test()\n\u001b[1;32m---> <a href='vscode-notebook-cell:/c%3A/Users/jibon/Coding/macroSim/excel_evaluator.ipynb#ch0000023?line=78'>79</a>\u001b[0m file \u001b[39m=\u001b[39m test\u001b[39m.\u001b[39;49mread_and_parse_archive(filename)\n",
      "\u001b[1;32mc:\\Users\\jibon\\Coding\\macroSim\\excel_evaluator.ipynb Cell 24'\u001b[0m in \u001b[0;36mModelCompiler_test.read_and_parse_archive\u001b[1;34m(self, file_name, ignore_sheets, ignore_hidden, build_code)\u001b[0m\n\u001b[0;32m      <a href='vscode-notebook-cell:/c%3A/Users/jibon/Coding/macroSim/excel_evaluator.ipynb#ch0000023?line=2'>3</a>\u001b[0m \u001b[39mdef\u001b[39;00m \u001b[39mread_and_parse_archive\u001b[39m(\n\u001b[0;32m      <a href='vscode-notebook-cell:/c%3A/Users/jibon/Coding/macroSim/excel_evaluator.ipynb#ch0000023?line=3'>4</a>\u001b[0m         \u001b[39mself\u001b[39m, file_name\u001b[39m=\u001b[39m\u001b[39mNone\u001b[39;00m, ignore_sheets\u001b[39m=\u001b[39m[], ignore_hidden\u001b[39m=\u001b[39m\u001b[39mFalse\u001b[39;00m,\n\u001b[0;32m      <a href='vscode-notebook-cell:/c%3A/Users/jibon/Coding/macroSim/excel_evaluator.ipynb#ch0000023?line=4'>5</a>\u001b[0m         build_code\u001b[39m=\u001b[39m\u001b[39mFalse\u001b[39;00m\n\u001b[0;32m      <a href='vscode-notebook-cell:/c%3A/Users/jibon/Coding/macroSim/excel_evaluator.ipynb#ch0000023?line=5'>6</a>\u001b[0m ):\n\u001b[0;32m      <a href='vscode-notebook-cell:/c%3A/Users/jibon/Coding/macroSim/excel_evaluator.ipynb#ch0000023?line=6'>7</a>\u001b[0m     \u001b[39mself\u001b[39m\u001b[39m.\u001b[39marchive \u001b[39m=\u001b[39m \u001b[39mself\u001b[39m\u001b[39m.\u001b[39mread_excel_file(file_name)\n\u001b[1;32m----> <a href='vscode-notebook-cell:/c%3A/Users/jibon/Coding/macroSim/excel_evaluator.ipynb#ch0000023?line=7'>8</a>\u001b[0m     \u001b[39mself\u001b[39;49m\u001b[39m.\u001b[39;49mparse_archive(\n\u001b[0;32m      <a href='vscode-notebook-cell:/c%3A/Users/jibon/Coding/macroSim/excel_evaluator.ipynb#ch0000023?line=8'>9</a>\u001b[0m         \u001b[39mself\u001b[39;49m\u001b[39m.\u001b[39;49marchive, ignore_sheets\u001b[39m=\u001b[39;49mignore_sheets, ignore_hidden\u001b[39m=\u001b[39;49mignore_hidden)\n\u001b[0;32m     <a href='vscode-notebook-cell:/c%3A/Users/jibon/Coding/macroSim/excel_evaluator.ipynb#ch0000023?line=10'>11</a>\u001b[0m     \u001b[39mif\u001b[39;00m build_code:\n\u001b[0;32m     <a href='vscode-notebook-cell:/c%3A/Users/jibon/Coding/macroSim/excel_evaluator.ipynb#ch0000023?line=11'>12</a>\u001b[0m         \u001b[39mself\u001b[39m\u001b[39m.\u001b[39mmodel\u001b[39m.\u001b[39mbuild_code()\n",
      "\u001b[1;32mc:\\Users\\jibon\\Coding\\macroSim\\excel_evaluator.ipynb Cell 24'\u001b[0m in \u001b[0;36mModelCompiler_test.parse_archive\u001b[1;34m(self, archive, ignore_sheets, ignore_hidden)\u001b[0m\n\u001b[0;32m     <a href='vscode-notebook-cell:/c%3A/Users/jibon/Coding/macroSim/excel_evaluator.ipynb#ch0000023?line=19'>20</a>\u001b[0m     \u001b[39mself\u001b[39m\u001b[39m.\u001b[39mmodel\u001b[39m.\u001b[39mcells, \u001b[39mself\u001b[39m\u001b[39m.\u001b[39mmodel\u001b[39m.\u001b[39mformulae, \u001b[39mself\u001b[39m\u001b[39m.\u001b[39mmodel\u001b[39m.\u001b[39mranges \u001b[39m=\u001b[39m archive\u001b[39m.\u001b[39mread_cells(ignore_sheets, ignore_hidden)\n\u001b[0;32m     <a href='vscode-notebook-cell:/c%3A/Users/jibon/Coding/macroSim/excel_evaluator.ipynb#ch0000023?line=20'>21</a>\u001b[0m     \u001b[39mself\u001b[39m\u001b[39m.\u001b[39mdefined_names \u001b[39m=\u001b[39m archive\u001b[39m.\u001b[39mread_defined_names(ignore_sheets, ignore_hidden)\n\u001b[1;32m---> <a href='vscode-notebook-cell:/c%3A/Users/jibon/Coding/macroSim/excel_evaluator.ipynb#ch0000023?line=21'>22</a>\u001b[0m \u001b[39mself\u001b[39;49m\u001b[39m.\u001b[39;49mbuild_defined_names()\n\u001b[0;32m     <a href='vscode-notebook-cell:/c%3A/Users/jibon/Coding/macroSim/excel_evaluator.ipynb#ch0000023?line=23'>24</a>\u001b[0m \u001b[39mself\u001b[39m\u001b[39m.\u001b[39mlink_cells_to_defined_names()\n\u001b[0;32m     <a href='vscode-notebook-cell:/c%3A/Users/jibon/Coding/macroSim/excel_evaluator.ipynb#ch0000023?line=24'>25</a>\u001b[0m \u001b[39mself\u001b[39m\u001b[39m.\u001b[39mbuild_ranges()\n",
      "\u001b[1;32mc:\\Users\\jibon\\Coding\\macroSim\\excel_evaluator.ipynb Cell 24'\u001b[0m in \u001b[0;36mModelCompiler_test.build_defined_names\u001b[1;34m(self)\u001b[0m\n\u001b[0;32m     <a href='vscode-notebook-cell:/c%3A/Users/jibon/Coding/macroSim/excel_evaluator.ipynb#ch0000023?line=58'>59</a>\u001b[0m     ttt[\u001b[39m\"\u001b[39m\u001b[39moutput\u001b[39m\u001b[39m\"\u001b[39m] \u001b[39m=\u001b[39m output \n\u001b[0;32m     <a href='vscode-notebook-cell:/c%3A/Users/jibon/Coding/macroSim/excel_evaluator.ipynb#ch0000023?line=59'>60</a>\u001b[0m     \u001b[39mprint\u001b[39m(output )\n\u001b[1;32m---> <a href='vscode-notebook-cell:/c%3A/Users/jibon/Coding/macroSim/excel_evaluator.ipynb#ch0000023?line=63'>64</a>\u001b[0m     \u001b[39mself\u001b[39m\u001b[39m.\u001b[39mmodel\u001b[39m.\u001b[39mdefined_names[name] \u001b[39m=\u001b[39m xltypes\u001b[39m.\u001b[39;49mXLRange(\n\u001b[0;32m     <a href='vscode-notebook-cell:/c%3A/Users/jibon/Coding/macroSim/excel_evaluator.ipynb#ch0000023?line=64'>65</a>\u001b[0m         cell_address, name\u001b[39m=\u001b[39;49mname)\n\u001b[0;32m     <a href='vscode-notebook-cell:/c%3A/Users/jibon/Coding/macroSim/excel_evaluator.ipynb#ch0000023?line=66'>67</a>\u001b[0m     \u001b[39mself\u001b[39m\u001b[39m.\u001b[39mmodel\u001b[39m.\u001b[39mranges[cell_address] \u001b[39m=\u001b[39m \\\n\u001b[0;32m     <a href='vscode-notebook-cell:/c%3A/Users/jibon/Coding/macroSim/excel_evaluator.ipynb#ch0000023?line=67'>68</a>\u001b[0m         \u001b[39mself\u001b[39m\u001b[39m.\u001b[39mmodel\u001b[39m.\u001b[39mdefined_names[name]\n\u001b[0;32m     <a href='vscode-notebook-cell:/c%3A/Users/jibon/Coding/macroSim/excel_evaluator.ipynb#ch0000023?line=70'>71</a>\u001b[0m \u001b[39mif\u001b[39;00m (\n\u001b[0;32m     <a href='vscode-notebook-cell:/c%3A/Users/jibon/Coding/macroSim/excel_evaluator.ipynb#ch0000023?line=71'>72</a>\u001b[0m         cell_address \u001b[39min\u001b[39;00m \u001b[39mself\u001b[39m\u001b[39m.\u001b[39mmodel\u001b[39m.\u001b[39mformulae\n\u001b[0;32m     <a href='vscode-notebook-cell:/c%3A/Users/jibon/Coding/macroSim/excel_evaluator.ipynb#ch0000023?line=72'>73</a>\u001b[0m         \u001b[39mand\u001b[39;00m name \u001b[39mnot\u001b[39;00m \u001b[39min\u001b[39;00m \u001b[39mself\u001b[39m\u001b[39m.\u001b[39mmodel\u001b[39m.\u001b[39mformulae\n\u001b[0;32m     <a href='vscode-notebook-cell:/c%3A/Users/jibon/Coding/macroSim/excel_evaluator.ipynb#ch0000023?line=73'>74</a>\u001b[0m ):\n",
      "File \u001b[1;32m<string>:6\u001b[0m, in \u001b[0;36m__init__\u001b[1;34m(self, address_str, name, value)\u001b[0m\n",
      "File \u001b[1;32m~\\AppData\\Local\\Packages\\PythonSoftwareFoundation.Python.3.9_qbz5n2kfra8p0\\LocalCache\\local-packages\\Python39\\site-packages\\xlcalculator\\xltypes.py:90\u001b[0m, in \u001b[0;36mXLRange.__post_init__\u001b[1;34m(self)\u001b[0m\n\u001b[0;32m     88\u001b[0m \u001b[39mif\u001b[39;00m \u001b[39mself\u001b[39m\u001b[39m.\u001b[39mname \u001b[39mis\u001b[39;00m \u001b[39mNone\u001b[39;00m:\n\u001b[0;32m     89\u001b[0m     \u001b[39mself\u001b[39m\u001b[39m.\u001b[39mname \u001b[39m=\u001b[39m \u001b[39mself\u001b[39m\u001b[39m.\u001b[39maddress_str\n\u001b[1;32m---> 90\u001b[0m \u001b[39mself\u001b[39m\u001b[39m.\u001b[39msheet, \u001b[39mself\u001b[39m\u001b[39m.\u001b[39mcells \u001b[39m=\u001b[39m utils\u001b[39m.\u001b[39;49mresolve_ranges(\u001b[39mself\u001b[39;49m\u001b[39m.\u001b[39;49maddress_str)\n",
      "File \u001b[1;32m~\\AppData\\Local\\Packages\\PythonSoftwareFoundation.Python.3.9_qbz5n2kfra8p0\\LocalCache\\local-packages\\Python39\\site-packages\\xlcalculator\\utils.py:44\u001b[0m, in \u001b[0;36mresolve_ranges\u001b[1;34m(ranges, default_sheet)\u001b[0m\n\u001b[0;32m     39\u001b[0m         \u001b[39mraise\u001b[39;00m \u001b[39mValueError\u001b[39;00m(\n\u001b[0;32m     40\u001b[0m             \u001b[39mf\u001b[39m\u001b[39m'\u001b[39m\u001b[39mGot multiple different sheets in ranges: \u001b[39m\u001b[39m'\u001b[39m\n\u001b[0;32m     41\u001b[0m             \u001b[39mf\u001b[39m\u001b[39m'\u001b[39m\u001b[39m{\u001b[39;00msheet\u001b[39m}\u001b[39;00m\u001b[39m, \u001b[39m\u001b[39m{\u001b[39;00mrng_sheet\u001b[39m}\u001b[39;00m\u001b[39m'\u001b[39m\n\u001b[0;32m     42\u001b[0m         )\n\u001b[0;32m     43\u001b[0m     sheet \u001b[39m=\u001b[39m rng_sheet\n\u001b[1;32m---> 44\u001b[0m min_col, min_row, max_col, max_row \u001b[39m=\u001b[39m range_boundaries(rng)\n\u001b[0;32m     46\u001b[0m \u001b[39m# Unbound ranges (e.g., A:A) might not have these set!\u001b[39;00m\n\u001b[0;32m     47\u001b[0m min_col \u001b[39m=\u001b[39m min_col \u001b[39mor\u001b[39;00m \u001b[39m1\u001b[39m\n",
      "File \u001b[1;32m~\\AppData\\Local\\Packages\\PythonSoftwareFoundation.Python.3.9_qbz5n2kfra8p0\\LocalCache\\local-packages\\Python39\\site-packages\\openpyxl\\utils\\cell.py:135\u001b[0m, in \u001b[0;36mrange_boundaries\u001b[1;34m(range_string)\u001b[0m\n\u001b[0;32m    133\u001b[0m m \u001b[39m=\u001b[39m ABSOLUTE_RE\u001b[39m.\u001b[39mmatch(range_string)\n\u001b[0;32m    134\u001b[0m \u001b[39mif\u001b[39;00m \u001b[39mnot\u001b[39;00m m:\n\u001b[1;32m--> 135\u001b[0m     \u001b[39mraise\u001b[39;00m \u001b[39mValueError\u001b[39;00m(msg)\n\u001b[0;32m    137\u001b[0m min_col, min_row, sep, max_col, max_row \u001b[39m=\u001b[39m m\u001b[39m.\u001b[39mgroups()\n\u001b[0;32m    139\u001b[0m \u001b[39mif\u001b[39;00m sep:\n",
      "\u001b[1;31mValueError\u001b[0m: B4=1 is not a valid coordinate or range"
     ]
    }
   ],
   "source": [
    "ttt = {}\n",
    "class ModelCompiler_test(ModelCompiler):     \n",
    "    def read_and_parse_archive(\n",
    "            self, file_name=None, ignore_sheets=[], ignore_hidden=False,\n",
    "            build_code=False\n",
    "    ):\n",
    "        self.archive = self.read_excel_file(file_name)\n",
    "        self.parse_archive(\n",
    "            self.archive, ignore_sheets=ignore_sheets, ignore_hidden=ignore_hidden)\n",
    "\n",
    "        if build_code:\n",
    "            self.model.build_code()\n",
    "\n",
    "        return self.model\n",
    "    \n",
    "    def parse_archive(self, archive=None, ignore_sheets=[], ignore_hidden=False):\n",
    "        if archive is None:\n",
    "            archive = self.archive\n",
    "        else:\n",
    "            self.model.cells, self.model.formulae, self.model.ranges = archive.read_cells(ignore_sheets, ignore_hidden)\n",
    "            self.defined_names = archive.read_defined_names(ignore_sheets, ignore_hidden)\n",
    "        self.build_defined_names()\n",
    "        \n",
    "        self.link_cells_to_defined_names()\n",
    "        self.build_ranges()\n",
    "\n",
    "    \n",
    "    def build_defined_names(self):\n",
    "        \"\"\"Add defined ranges to model.\"\"\"\n",
    "        print(\"WOOOOO\")\n",
    "        context = evaluator.EvaluatorContext(evaluator.Evaluator(self.model), \"dd!A1\")\n",
    "        ttt['context'] = context\n",
    "        ttt['model'] = self.model\n",
    "    \n",
    "        for name in self.defined_names:\n",
    "            print(name)\n",
    "            cell_address = self.defined_names[name]\n",
    "            cell_address = cell_address.replace('$', '')\n",
    "\n",
    "            # a cell has an address like; Sheet1!A1\n",
    "            if ':' not in cell_address:\n",
    "                \n",
    "                if cell_address not in self.model.cells:\n",
    "                    logging.warning(\n",
    "                        f\"Defined name {name} refers to empty cell \"\n",
    "                        f\"{cell_address}. Is not being loaded.\")\n",
    "                    continue\n",
    "\n",
    "                else:\n",
    "                    if self.model.cells[cell_address] is not None:\n",
    "                        self.model.defined_names[name] = \\\n",
    "                            self.model.cells[cell_address]\n",
    "            \n",
    "            else:\n",
    "                print(cell_address)\n",
    "                ttt[\"defined\"] = self.defined_names\n",
    "                output = parser.FormulaParser() \\\n",
    "                    .parse(cell_address, self.defined_names, False)\n",
    "                ttt[\"output\"] = output \n",
    "                print(output )\n",
    "\n",
    "\n",
    "                \n",
    "                self.model.defined_names[name] = xltypes.XLRange(\n",
    "                    cell_address, name=name)\n",
    "                \n",
    "                self.model.ranges[cell_address] = \\\n",
    "                    self.model.defined_names[name]\n",
    "                    \n",
    "\n",
    "            if (\n",
    "                    cell_address in self.model.formulae\n",
    "                    and name not in self.model.formulae\n",
    "            ):\n",
    "                self.model.formulae[name] = \\\n",
    "                    self.model.cells[cell_address].formula\n",
    "\n",
    "test = ModelCompiler_test()\n",
    "file = test.read_and_parse_archive(filename)"
   ]
  },
  {
   "cell_type": "code",
   "execution_count": 71,
   "metadata": {},
   "outputs": [
    {
     "data": {
      "text/plain": [
       "<FunctionNode tvalue: 'IF', ttype: function, tsubtype: >"
      ]
     },
     "execution_count": 71,
     "metadata": {},
     "output_type": "execute_result"
    }
   ],
   "source": [
    "ttt[\"output\"]"
   ]
  },
  {
   "cell_type": "code",
   "execution_count": 72,
   "metadata": {},
   "outputs": [
    {
     "data": {
      "text/plain": [
       "<BLANK>"
      ]
     },
     "execution_count": 72,
     "metadata": {},
     "output_type": "execute_result"
    }
   ],
   "source": [
    "a = evaluator.Evaluator(model)\n",
    "b = evaluator.EvaluatorContext(a, 'A1')\n",
    "\n",
    "ttt[\"output\"].eval(b)"
   ]
  },
  {
   "cell_type": "code",
   "execution_count": 8,
   "metadata": {},
   "outputs": [],
   "source": [
    "evaluatorr = ttt['context'].evaluator\n",
    "context = evaluator.EvaluatorContext(evaluatorr, \"main page!A1\")\n",
    "model = ttt['model']\n",
    "\n"
   ]
  },
  {
   "cell_type": "code",
   "execution_count": 27,
   "metadata": {},
   "outputs": [
    {
     "data": {
      "text/plain": [
       "'main page!A1'"
      ]
     },
     "execution_count": 27,
     "metadata": {},
     "output_type": "execute_result"
    }
   ],
   "source": [
    "evaluatorr.resolve_names(\"main page!A1\")"
   ]
  },
  {
   "cell_type": "code",
   "execution_count": 9,
   "metadata": {},
   "outputs": [
    {
     "data": {
      "text/plain": [
       "<RangeNode tvalue: 'main page!F8', ttype: operand, tsubtype: range>"
      ]
     },
     "metadata": {},
     "output_type": "display_data"
    },
    {
     "data": {
      "text/plain": [
       "<Text 'Size'>"
      ]
     },
     "execution_count": 9,
     "metadata": {},
     "output_type": "execute_result"
    }
   ],
   "source": [
    "c = parser.FormulaParser() \\\n",
    "        .parse(\n",
    "                #\"\"\"IF(controls!B4=1,'\"normal\" case'!AX3:AX22,'\"normal\" case'!BB3:BB22)\"\"\",\n",
    "                \"'main page'!F8\",\n",
    "                {}, \n",
    "                False\n",
    "        )\n",
    "display(c)\n",
    "c.eval(context)\n"
   ]
  },
  {
   "cell_type": "code",
   "execution_count": 10,
   "metadata": {},
   "outputs": [
    {
     "data": {
      "text/plain": [
       "<FunctionNode tvalue: 'CONCAT', ttype: function, tsubtype: >"
      ]
     },
     "metadata": {},
     "output_type": "display_data"
    },
    {
     "data": {
      "text/plain": [
       "<Text 'Size2'>"
      ]
     },
     "execution_count": 10,
     "metadata": {},
     "output_type": "execute_result"
    }
   ],
   "source": [
    "c = parser.FormulaParser() \\\n",
    "        .parse(\n",
    "                \"\"\"CONCAT('main page'!F8,2)\"\"\",\n",
    "                {}, \n",
    "                False\n",
    "        )\n",
    "display(c)\n",
    "c.eval(context)\n"
   ]
  },
  {
   "cell_type": "code",
   "execution_count": 17,
   "metadata": {},
   "outputs": [
    {
     "data": {
      "text/plain": [
       "<FunctionNode tvalue: 'IF', ttype: function, tsubtype: >"
      ]
     },
     "metadata": {},
     "output_type": "display_data"
    },
    {
     "data": {
      "text/plain": [
       "<BLANK>"
      ]
     },
     "execution_count": 17,
     "metadata": {},
     "output_type": "execute_result"
    }
   ],
   "source": [
    "c = parser.FormulaParser() \\\n",
    "        .parse(\n",
    "                \"\"\"IF('main page'!F8=\"Size\", 'main page'!F8:F9,2)\"\"\",\n",
    "                {}, \n",
    "                False\n",
    "        )\n",
    "display(c)\n",
    "c.eval(context)\n"
   ]
  },
  {
   "cell_type": "code",
   "execution_count": 52,
   "metadata": {},
   "outputs": [
    {
     "ename": "FormulaError",
     "evalue": "('Not a valid formula:\\n%s', '=IF(controls!$B$4=1,\\'\"normal\" case\\'!$AX$3:$AX$22,\\'\"normal\" case\\'!$BB$3:$BB$22)')",
     "output_type": "error",
     "traceback": [
      "\u001b[1;31m---------------------------------------------------------------------------\u001b[0m",
      "\u001b[1;31mFormulaError\u001b[0m                              Traceback (most recent call last)",
      "\u001b[1;32mc:\\Users\\jibon\\Coding\\macroSim\\excel_evaluator.ipynb Cell 29'\u001b[0m in \u001b[0;36m<cell line: 3>\u001b[1;34m()\u001b[0m\n\u001b[0;32m      <a href='vscode-notebook-cell:/c%3A/Users/jibon/Coding/macroSim/excel_evaluator.ipynb#ch0000025?line=0'>1</a>\u001b[0m \u001b[39mimport\u001b[39;00m \u001b[39mformulas\u001b[39;00m\n\u001b[0;32m      <a href='vscode-notebook-cell:/c%3A/Users/jibon/Coding/macroSim/excel_evaluator.ipynb#ch0000025?line=1'>2</a>\u001b[0m fpath, dir_output \u001b[39m=\u001b[39m \u001b[39m'\u001b[39m\u001b[39mcarlin_soskice_macroeconomic_simulator (unprotected).xlsx\u001b[39m\u001b[39m'\u001b[39m, \u001b[39m'\u001b[39m\u001b[39moutput\u001b[39m\u001b[39m'\u001b[39m  \n\u001b[1;32m----> <a href='vscode-notebook-cell:/c%3A/Users/jibon/Coding/macroSim/excel_evaluator.ipynb#ch0000025?line=2'>3</a>\u001b[0m xl_model \u001b[39m=\u001b[39m formulas\u001b[39m.\u001b[39;49mExcelModel()\u001b[39m.\u001b[39;49mloads(fpath)\u001b[39m.\u001b[39mfinish()\n\u001b[0;32m      <a href='vscode-notebook-cell:/c%3A/Users/jibon/Coding/macroSim/excel_evaluator.ipynb#ch0000025?line=3'>4</a>\u001b[0m xl_model\u001b[39m.\u001b[39mcalculate()\n",
      "File \u001b[1;32m~\\AppData\\Local\\Packages\\PythonSoftwareFoundation.Python.3.9_qbz5n2kfra8p0\\LocalCache\\local-packages\\Python39\\site-packages\\formulas\\excel\\__init__.py:103\u001b[0m, in \u001b[0;36mExcelModel.loads\u001b[1;34m(self, *file_names)\u001b[0m\n\u001b[0;32m    101\u001b[0m \u001b[39mdef\u001b[39;00m \u001b[39mloads\u001b[39m(\u001b[39mself\u001b[39m, \u001b[39m*\u001b[39mfile_names):\n\u001b[0;32m    102\u001b[0m     \u001b[39mfor\u001b[39;00m filename \u001b[39min\u001b[39;00m file_names:\n\u001b[1;32m--> 103\u001b[0m         \u001b[39mself\u001b[39;49m\u001b[39m.\u001b[39;49mload(filename)\n\u001b[0;32m    104\u001b[0m     \u001b[39mreturn\u001b[39;00m \u001b[39mself\u001b[39m\n",
      "File \u001b[1;32m~\\AppData\\Local\\Packages\\PythonSoftwareFoundation.Python.3.9_qbz5n2kfra8p0\\LocalCache\\local-packages\\Python39\\site-packages\\formulas\\excel\\__init__.py:107\u001b[0m, in \u001b[0;36mExcelModel.load\u001b[1;34m(self, filename)\u001b[0m\n\u001b[0;32m    106\u001b[0m \u001b[39mdef\u001b[39;00m \u001b[39mload\u001b[39m(\u001b[39mself\u001b[39m, filename):\n\u001b[1;32m--> 107\u001b[0m     book, context \u001b[39m=\u001b[39m \u001b[39mself\u001b[39;49m\u001b[39m.\u001b[39;49madd_book(filename)\n\u001b[0;32m    108\u001b[0m     \u001b[39mself\u001b[39m\u001b[39m.\u001b[39mpushes(\u001b[39m*\u001b[39mbook\u001b[39m.\u001b[39mworksheets, context\u001b[39m=\u001b[39mcontext)\n\u001b[0;32m    109\u001b[0m     \u001b[39mreturn\u001b[39;00m \u001b[39mself\u001b[39m\n",
      "File \u001b[1;32m~\\AppData\\Local\\Packages\\PythonSoftwareFoundation.Python.3.9_qbz5n2kfra8p0\\LocalCache\\local-packages\\Python39\\site-packages\\formulas\\excel\\__init__.py:181\u001b[0m, in \u001b[0;36mExcelModel.add_book\u001b[1;34m(self, book, context, data_only)\u001b[0m\n\u001b[0;32m    175\u001b[0m     data[\u001b[39m'\u001b[39m\u001b[39mexternal_links\u001b[39m\u001b[39m'\u001b[39m] \u001b[39m=\u001b[39m {\n\u001b[0;32m    176\u001b[0m         k: (_encode_path(d), f)\n\u001b[0;32m    177\u001b[0m         \u001b[39mfor\u001b[39;00m k, (d, f) \u001b[39min\u001b[39;00m data[\u001b[39m'\u001b[39m\u001b[39mexternal_links\u001b[39m\u001b[39m'\u001b[39m]\u001b[39m.\u001b[39mitems()\n\u001b[0;32m    178\u001b[0m     }\n\u001b[0;32m    180\u001b[0m \u001b[39mif\u001b[39;00m \u001b[39m'\u001b[39m\u001b[39mreferences\u001b[39m\u001b[39m'\u001b[39m \u001b[39mnot\u001b[39;00m \u001b[39min\u001b[39;00m data:\n\u001b[1;32m--> 181\u001b[0m     data[\u001b[39m'\u001b[39m\u001b[39mreferences\u001b[39m\u001b[39m'\u001b[39m] \u001b[39m=\u001b[39m \u001b[39mself\u001b[39;49m\u001b[39m.\u001b[39;49madd_references(\n\u001b[0;32m    182\u001b[0m         book, context\u001b[39m=\u001b[39;49msh\u001b[39m.\u001b[39;49mcombine_dicts(ctx, base\u001b[39m=\u001b[39;49msh\u001b[39m.\u001b[39;49mselector(\n\u001b[0;32m    183\u001b[0m             (\u001b[39m'\u001b[39;49m\u001b[39mexternal_links\u001b[39;49m\u001b[39m'\u001b[39;49m,), data, allow_miss\u001b[39m=\u001b[39;49m\u001b[39mTrue\u001b[39;49;00m\n\u001b[0;32m    184\u001b[0m         ))\n\u001b[0;32m    185\u001b[0m     )\n\u001b[0;32m    187\u001b[0m \u001b[39mreturn\u001b[39;00m book, ctx\n",
      "File \u001b[1;32m~\\AppData\\Local\\Packages\\PythonSoftwareFoundation.Python.3.9_qbz5n2kfra8p0\\LocalCache\\local-packages\\Python39\\site-packages\\formulas\\excel\\__init__.py:92\u001b[0m, in \u001b[0;36mExcelModel.add_references\u001b[1;34m(self, book, context)\u001b[0m\n\u001b[0;32m     90\u001b[0m refs, nodes \u001b[39m=\u001b[39m {}, \u001b[39mset\u001b[39m()\n\u001b[0;32m     91\u001b[0m \u001b[39mfor\u001b[39;00m n \u001b[39min\u001b[39;00m book\u001b[39m.\u001b[39mdefined_names\u001b[39m.\u001b[39mdefinedName:\n\u001b[1;32m---> 92\u001b[0m     ref \u001b[39m=\u001b[39m Ref(n\u001b[39m.\u001b[39;49mname\u001b[39m.\u001b[39;49mupper(), \u001b[39m'\u001b[39;49m\u001b[39m=\u001b[39;49m\u001b[39m%s\u001b[39;49;00m\u001b[39m'\u001b[39;49m \u001b[39m%\u001b[39;49m n\u001b[39m.\u001b[39;49mvalue, context)\u001b[39m.\u001b[39mcompile(\n\u001b[0;32m     93\u001b[0m         context\u001b[39m=\u001b[39mcontext\n\u001b[0;32m     94\u001b[0m     )\n\u001b[0;32m     95\u001b[0m     nodes\u001b[39m.\u001b[39mupdate(ref\u001b[39m.\u001b[39madd(\u001b[39mself\u001b[39m\u001b[39m.\u001b[39mdsp, context\u001b[39m=\u001b[39mcontext))\n\u001b[0;32m     96\u001b[0m     refs[ref\u001b[39m.\u001b[39moutput] \u001b[39m=\u001b[39m \u001b[39mNone\u001b[39;00m\n",
      "File \u001b[1;32m~\\AppData\\Local\\Packages\\PythonSoftwareFoundation.Python.3.9_qbz5n2kfra8p0\\LocalCache\\local-packages\\Python39\\site-packages\\formulas\\cell.py:178\u001b[0m, in \u001b[0;36mRef.__init__\u001b[1;34m(self, reference, value, context, check_formula)\u001b[0m\n\u001b[0;32m    173\u001b[0m context\u001b[39m.\u001b[39mupdate({\n\u001b[0;32m    174\u001b[0m     k: v \u001b[39mfor\u001b[39;00m k, v \u001b[39min\u001b[39;00m _re_ref\u001b[39m.\u001b[39mmatch(reference)\u001b[39m.\u001b[39mgroupdict()\u001b[39m.\u001b[39mitems()\n\u001b[0;32m    175\u001b[0m     \u001b[39mif\u001b[39;00m v \u001b[39mis\u001b[39;00m \u001b[39mnot\u001b[39;00m \u001b[39mNone\u001b[39;00m\n\u001b[0;32m    176\u001b[0m })\n\u001b[0;32m    177\u001b[0m ref \u001b[39m=\u001b[39m context\u001b[39m.\u001b[39mpop(\u001b[39m'\u001b[39m\u001b[39mref\u001b[39m\u001b[39m'\u001b[39m)\n\u001b[1;32m--> 178\u001b[0m \u001b[39msuper\u001b[39;49m(Ref, \u001b[39mself\u001b[39;49m)\u001b[39m.\u001b[39;49m\u001b[39m__init__\u001b[39;49m(\u001b[39mNone\u001b[39;49;00m, value, context, check_formula)\n\u001b[0;32m    179\u001b[0m \u001b[39mself\u001b[39m\u001b[39m.\u001b[39moutput \u001b[39m=\u001b[39m range2parts([\u001b[39m'\u001b[39m\u001b[39mname\u001b[39m\u001b[39m'\u001b[39m], ref\u001b[39m=\u001b[39mref, \u001b[39m*\u001b[39m\u001b[39m*\u001b[39mcontext)[\u001b[39m'\u001b[39m\u001b[39mname\u001b[39m\u001b[39m'\u001b[39m]\n",
      "File \u001b[1;32m~\\AppData\\Local\\Packages\\PythonSoftwareFoundation.Python.3.9_qbz5n2kfra8p0\\LocalCache\\local-packages\\Python39\\site-packages\\formulas\\cell.py:82\u001b[0m, in \u001b[0;36mCell.__init__\u001b[1;34m(self, reference, value, context, check_formula, replace_missing_ref)\u001b[0m\n\u001b[0;32m     80\u001b[0m prs \u001b[39m=\u001b[39m \u001b[39mself\u001b[39m\u001b[39m.\u001b[39mparser\n\u001b[0;32m     81\u001b[0m \u001b[39mif\u001b[39;00m check_formula \u001b[39mand\u001b[39;00m \u001b[39misinstance\u001b[39m(value, \u001b[39mstr\u001b[39m) \u001b[39mand\u001b[39;00m prs\u001b[39m.\u001b[39mis_formula(value):\n\u001b[1;32m---> 82\u001b[0m     \u001b[39mself\u001b[39m\u001b[39m.\u001b[39mbuilder \u001b[39m=\u001b[39m prs\u001b[39m.\u001b[39;49mast(value, context\u001b[39m=\u001b[39;49mcontext)[\u001b[39m1\u001b[39m]\n\u001b[0;32m     83\u001b[0m \u001b[39melif\u001b[39;00m value \u001b[39mis\u001b[39;00m \u001b[39mnot\u001b[39;00m \u001b[39mNone\u001b[39;00m:\n\u001b[0;32m     84\u001b[0m     \u001b[39mself\u001b[39m\u001b[39m.\u001b[39mvalue \u001b[39m=\u001b[39m value\n",
      "File \u001b[1;32m~\\AppData\\Local\\Packages\\PythonSoftwareFoundation.Python.3.9_qbz5n2kfra8p0\\LocalCache\\local-packages\\Python39\\site-packages\\formulas\\parser.py:61\u001b[0m, in \u001b[0;36mParser.ast\u001b[1;34m(self, expression, context)\u001b[0m\n\u001b[0;32m     59\u001b[0m             \u001b[39mraise\u001b[39;00m FormulaError(expression)\n\u001b[0;32m     60\u001b[0m     \u001b[39melse\u001b[39;00m:\n\u001b[1;32m---> 61\u001b[0m         \u001b[39mraise\u001b[39;00m FormulaError(expression)\n\u001b[0;32m     62\u001b[0m Parenthesis(\u001b[39m'\u001b[39m\u001b[39m)\u001b[39m\u001b[39m'\u001b[39m)\u001b[39m.\u001b[39mast(tokens, stack, builder)\n\u001b[0;32m     63\u001b[0m tokens \u001b[39m=\u001b[39m tokens[\u001b[39m1\u001b[39m:\u001b[39m-\u001b[39m\u001b[39m1\u001b[39m]\n",
      "\u001b[1;31mFormulaError\u001b[0m: ('Not a valid formula:\\n%s', '=IF(controls!$B$4=1,\\'\"normal\" case\\'!$AX$3:$AX$22,\\'\"normal\" case\\'!$BB$3:$BB$22)')"
     ]
    }
   ],
   "source": [
    "\n",
    "\n",
    "\n",
    "import formulas\n",
    "fpath, dir_output = 'carlin_soskice_macroeconomic_simulator (unprotected).xlsx', 'output'  \n",
    "xl_model = formulas.ExcelModel().loads(fpath).finish()\n",
    "xl_model.calculate()\n",
    "\n"
   ]
  },
  {
   "cell_type": "code",
   "execution_count": null,
   "metadata": {},
   "outputs": [],
   "source": []
  }
 ],
 "metadata": {
  "kernelspec": {
   "display_name": "Python 3.9.13 64-bit (windows store)",
   "language": "python",
   "name": "python3"
  },
  "language_info": {
   "codemirror_mode": {
    "name": "ipython",
    "version": 3
   },
   "file_extension": ".py",
   "mimetype": "text/x-python",
   "name": "python",
   "nbconvert_exporter": "python",
   "pygments_lexer": "ipython3",
   "version": "3.9.13"
  },
  "orig_nbformat": 4,
  "vscode": {
   "interpreter": {
    "hash": "c46d15a1b4c28c31e9dc683ee4487d3f462082816e759ce09bdb017dc1cea866"
   }
  }
 },
 "nbformat": 4,
 "nbformat_minor": 2
}
